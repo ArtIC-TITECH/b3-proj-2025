{
  "cells": [
    {
      "cell_type": "markdown",
      "metadata": {
        "id": "462te64u_ESN"
      },
      "source": [
        "[![Open in Colab](https://colab.research.google.com/assets/colab-badge.svg)](https://colab.research.google.com/github/ArtIC-TITECH/b3-proj-2024/blob/main/docs/theme_B.ipynb)"
      ]
    },
    {
      "cell_type": "markdown",
      "source": [
        "# 学習率とバッチサイズの精度への影響評価"
      ],
      "metadata": {
        "id": "rvmqO6d0Zagd"
      }
    },
    {
      "cell_type": "markdown",
      "source": [
        "## 学習率とバッチサイズを変えた際の精度"
      ],
      "metadata": {
        "id": "2jFZODGvdz7P"
      }
    },
    {
      "cell_type": "markdown",
      "source": [
        "以下のセルはMNISTで学習率とバッチサイズを変化させた際の精度を評価します。"
      ],
      "metadata": {
        "id": "kMq1k6xod_1H"
      }
    },
    {
      "cell_type": "code",
      "source": [
        "import torch\n",
        "import torch.nn as nn\n",
        "import torch.optim as optim\n",
        "from torch.utils.data import DataLoader\n",
        "from torchvision import datasets, transforms\n",
        "import matplotlib.pyplot as plt\n",
        "import numpy as np\n",
        "\n",
        "# MNISTデータセットのロードと前処理\n",
        "transform = transforms.Compose([transforms.ToTensor(), transforms.Normalize((0.5,), (0.5,))])\n",
        "\n",
        "train_dataset = datasets.MNIST(root='./data', train=True, download=True, transform=transform)\n",
        "test_dataset = datasets.MNIST(root='./data', train=False, download=True, transform=transform)\n",
        "\n",
        "# バッチサイズと学習率の候補を設定\n",
        "batch_sizes = [32, 64, 128, 256]\n",
        "learning_rates = [0.001, 0.01, 0.1, 0.2]\n",
        "results = {}\n",
        "\n",
        "# 線形モデルの定義\n",
        "class SimpleNN(nn.Module):\n",
        "    def __init__(self):\n",
        "        super(SimpleNN, self).__init__()\n",
        "        self.flatten = nn.Flatten()\n",
        "        self.fc1 = nn.Linear(28*28, 128)  # 入力層 -> 隠れ層\n",
        "        self.fc2 = nn.Linear(128, 10)     # 隠れ層 -> 出力層\n",
        "\n",
        "    def forward(self, x):\n",
        "        x = self.flatten(x)\n",
        "        x = torch.relu(self.fc1(x))\n",
        "        x = self.fc2(x)\n",
        "        return x\n",
        "\n",
        "# トレーニング関数\n",
        "def train_and_evaluate(batch_size, learning_rate):\n",
        "    # モデル、ロス関数、オプティマイザーの準備\n",
        "    model = SimpleNN().to(device)\n",
        "    criterion = nn.CrossEntropyLoss()\n",
        "    optimizer = optim.SGD(model.parameters(), lr=learning_rate)\n",
        "\n",
        "    # DataLoaderの準備\n",
        "    train_loader = DataLoader(train_dataset, batch_size=batch_size, shuffle=True)\n",
        "    test_loader = DataLoader(test_dataset, batch_size=batch_size, shuffle=False)\n",
        "\n",
        "    # トレーニングループ\n",
        "    epochs = 5\n",
        "    for epoch in range(epochs):\n",
        "        model.train()\n",
        "        running_loss = 0.0\n",
        "        correct = 0\n",
        "        total = 0\n",
        "\n",
        "        for images, labels in train_loader:\n",
        "            images, labels = images.to(device), labels.to(device)\n",
        "\n",
        "            optimizer.zero_grad()\n",
        "            outputs = model(images)\n",
        "            loss = criterion(outputs, labels)\n",
        "            loss.backward()\n",
        "            optimizer.step()\n",
        "\n",
        "            running_loss += loss.item()\n",
        "            _, predicted = torch.max(outputs, 1)\n",
        "            correct += (predicted == labels).sum().item()\n",
        "            total += labels.size(0)\n",
        "\n",
        "        train_accuracy = 100 * correct / total\n",
        "        print(f\"Epoch [{epoch+1}/{epochs}], Loss: {running_loss/len(train_loader):.4f}, Accuracy: {train_accuracy:.2f}%\")\n",
        "\n",
        "    # テストデータでの評価\n",
        "    model.eval()\n",
        "    correct = 0\n",
        "    total = 0\n",
        "    with torch.no_grad():\n",
        "        for images, labels in test_loader:\n",
        "            images, labels = images.to(device), labels.to(device)\n",
        "            outputs = model(images)\n",
        "            _, predicted = torch.max(outputs, 1)\n",
        "            correct += (predicted == labels).sum().item()\n",
        "            total += labels.size(0)\n",
        "\n",
        "    test_accuracy = 100 * correct / total\n",
        "    return test_accuracy\n",
        "\n",
        "# 実験設定\n",
        "device = torch.device('cuda' if torch.cuda.is_available() else 'cpu')\n",
        "for batch_size in batch_sizes:\n",
        "    for lr in learning_rates:\n",
        "        print(f\"Training with Batch Size = {batch_size}, Learning Rate = {lr}\")\n",
        "        test_accuracy = train_and_evaluate(batch_size, lr)\n",
        "        results[(batch_size, lr)] = test_accuracy\n",
        "\n",
        "# 結果を表示\n",
        "print(\"\\nExperiment Results:\")\n",
        "for (batch_size, lr), accuracy in results.items():\n",
        "    print(f\"Batch Size: {batch_size}, Learning Rate: {lr}, Test Accuracy: {accuracy:.2f}%\")\n",
        "\n",
        "# 結果の可視化\n",
        "accuracy_matrix = np.zeros((len(batch_sizes), len(learning_rates)))\n",
        "for i, batch_size in enumerate(batch_sizes):\n",
        "    for j, lr in enumerate(learning_rates):\n",
        "        accuracy_matrix[i, j] = results[(batch_size, lr)]\n",
        "\n",
        "plt.imshow(accuracy_matrix, cmap='hot', interpolation='nearest')\n",
        "plt.xticks(np.arange(len(learning_rates)), learning_rates)\n",
        "plt.yticks(np.arange(len(batch_sizes)), batch_sizes)\n",
        "plt.xlabel('Learning Rate')\n",
        "plt.ylabel('Batch Size')\n",
        "plt.title('Test Accuracy for Different Batch Sizes and Learning Rates')\n",
        "plt.colorbar(label='Accuracy (%)')\n",
        "plt.show()\n"
      ],
      "metadata": {
        "colab": {
          "base_uri": "https://localhost:8080/",
          "height": 1000
        },
        "id": "lE-4mcnsdqtj",
        "outputId": "8c15b7ca-c5b5-44a9-846c-9428db56f373"
      },
      "execution_count": 1,
      "outputs": [
        {
          "output_type": "stream",
          "name": "stdout",
          "text": [
            "Downloading http://yann.lecun.com/exdb/mnist/train-images-idx3-ubyte.gz\n",
            "Failed to download (trying next):\n",
            "<urlopen error [SSL: CERTIFICATE_VERIFY_FAILED] certificate verify failed: certificate has expired (_ssl.c:1007)>\n",
            "\n",
            "Downloading https://ossci-datasets.s3.amazonaws.com/mnist/train-images-idx3-ubyte.gz\n",
            "Downloading https://ossci-datasets.s3.amazonaws.com/mnist/train-images-idx3-ubyte.gz to ./data/MNIST/raw/train-images-idx3-ubyte.gz\n"
          ]
        },
        {
          "output_type": "stream",
          "name": "stderr",
          "text": [
            "100%|██████████| 9912422/9912422 [00:02<00:00, 4593214.56it/s]\n"
          ]
        },
        {
          "output_type": "stream",
          "name": "stdout",
          "text": [
            "Extracting ./data/MNIST/raw/train-images-idx3-ubyte.gz to ./data/MNIST/raw\n",
            "\n",
            "Downloading http://yann.lecun.com/exdb/mnist/train-labels-idx1-ubyte.gz\n",
            "Failed to download (trying next):\n",
            "<urlopen error [SSL: CERTIFICATE_VERIFY_FAILED] certificate verify failed: certificate has expired (_ssl.c:1007)>\n",
            "\n",
            "Downloading https://ossci-datasets.s3.amazonaws.com/mnist/train-labels-idx1-ubyte.gz\n",
            "Downloading https://ossci-datasets.s3.amazonaws.com/mnist/train-labels-idx1-ubyte.gz to ./data/MNIST/raw/train-labels-idx1-ubyte.gz\n"
          ]
        },
        {
          "output_type": "stream",
          "name": "stderr",
          "text": [
            "100%|██████████| 28881/28881 [00:00<00:00, 132931.65it/s]\n"
          ]
        },
        {
          "output_type": "stream",
          "name": "stdout",
          "text": [
            "Extracting ./data/MNIST/raw/train-labels-idx1-ubyte.gz to ./data/MNIST/raw\n",
            "\n",
            "Downloading http://yann.lecun.com/exdb/mnist/t10k-images-idx3-ubyte.gz\n",
            "Failed to download (trying next):\n",
            "<urlopen error [SSL: CERTIFICATE_VERIFY_FAILED] certificate verify failed: certificate has expired (_ssl.c:1007)>\n",
            "\n",
            "Downloading https://ossci-datasets.s3.amazonaws.com/mnist/t10k-images-idx3-ubyte.gz\n",
            "Downloading https://ossci-datasets.s3.amazonaws.com/mnist/t10k-images-idx3-ubyte.gz to ./data/MNIST/raw/t10k-images-idx3-ubyte.gz\n"
          ]
        },
        {
          "output_type": "stream",
          "name": "stderr",
          "text": [
            "100%|██████████| 1648877/1648877 [00:01<00:00, 1082248.31it/s]\n"
          ]
        },
        {
          "output_type": "stream",
          "name": "stdout",
          "text": [
            "Extracting ./data/MNIST/raw/t10k-images-idx3-ubyte.gz to ./data/MNIST/raw\n",
            "\n",
            "Downloading http://yann.lecun.com/exdb/mnist/t10k-labels-idx1-ubyte.gz\n",
            "Failed to download (trying next):\n",
            "<urlopen error [SSL: CERTIFICATE_VERIFY_FAILED] certificate verify failed: certificate has expired (_ssl.c:1007)>\n",
            "\n",
            "Downloading https://ossci-datasets.s3.amazonaws.com/mnist/t10k-labels-idx1-ubyte.gz\n",
            "Downloading https://ossci-datasets.s3.amazonaws.com/mnist/t10k-labels-idx1-ubyte.gz to ./data/MNIST/raw/t10k-labels-idx1-ubyte.gz\n"
          ]
        },
        {
          "output_type": "stream",
          "name": "stderr",
          "text": [
            "100%|██████████| 4542/4542 [00:00<00:00, 4394585.64it/s]\n"
          ]
        },
        {
          "output_type": "stream",
          "name": "stdout",
          "text": [
            "Extracting ./data/MNIST/raw/t10k-labels-idx1-ubyte.gz to ./data/MNIST/raw\n",
            "\n",
            "Training with Batch Size = 32, Learning Rate = 0.001\n",
            "Epoch [1/5], Loss: 1.5819, Accuracy: 61.57%\n",
            "Epoch [2/5], Loss: 0.7624, Accuracy: 83.24%\n",
            "Epoch [3/5], Loss: 0.5499, Accuracy: 86.34%\n",
            "Epoch [4/5], Loss: 0.4667, Accuracy: 87.66%\n",
            "Epoch [5/5], Loss: 0.4220, Accuracy: 88.62%\n",
            "Training with Batch Size = 32, Learning Rate = 0.01\n",
            "Epoch [1/5], Loss: 0.5728, Accuracy: 84.75%\n",
            "Epoch [2/5], Loss: 0.3134, Accuracy: 90.82%\n",
            "Epoch [3/5], Loss: 0.2701, Accuracy: 92.26%\n",
            "Epoch [4/5], Loss: 0.2366, Accuracy: 93.15%\n",
            "Epoch [5/5], Loss: 0.2097, Accuracy: 94.00%\n",
            "Training with Batch Size = 32, Learning Rate = 0.1\n",
            "Epoch [1/5], Loss: 0.3342, Accuracy: 89.38%\n",
            "Epoch [2/5], Loss: 0.1557, Accuracy: 95.19%\n",
            "Epoch [3/5], Loss: 0.1198, Accuracy: 96.31%\n",
            "Epoch [4/5], Loss: 0.0979, Accuracy: 96.98%\n",
            "Epoch [5/5], Loss: 0.0842, Accuracy: 97.37%\n",
            "Training with Batch Size = 32, Learning Rate = 0.2\n",
            "Epoch [1/5], Loss: 1.8782, Accuracy: 32.47%\n",
            "Epoch [2/5], Loss: 1.5235, Accuracy: 45.33%\n",
            "Epoch [3/5], Loss: 1.7377, Accuracy: 35.69%\n",
            "Epoch [4/5], Loss: 1.4821, Accuracy: 46.20%\n",
            "Epoch [5/5], Loss: 1.2356, Accuracy: 59.16%\n",
            "Training with Batch Size = 64, Learning Rate = 0.001\n",
            "Epoch [1/5], Loss: 1.9220, Accuracy: 52.15%\n",
            "Epoch [2/5], Loss: 1.2080, Accuracy: 77.41%\n",
            "Epoch [3/5], Loss: 0.8323, Accuracy: 82.68%\n",
            "Epoch [4/5], Loss: 0.6602, Accuracy: 84.90%\n",
            "Epoch [5/5], Loss: 0.5684, Accuracy: 86.17%\n",
            "Training with Batch Size = 64, Learning Rate = 0.01\n",
            "Epoch [1/5], Loss: 0.7582, Accuracy: 81.69%\n",
            "Epoch [2/5], Loss: 0.3681, Accuracy: 89.48%\n",
            "Epoch [3/5], Loss: 0.3232, Accuracy: 90.61%\n",
            "Epoch [4/5], Loss: 0.2976, Accuracy: 91.34%\n",
            "Epoch [5/5], Loss: 0.2777, Accuracy: 92.02%\n",
            "Training with Batch Size = 64, Learning Rate = 0.1\n",
            "Epoch [1/5], Loss: 0.3994, Accuracy: 87.48%\n",
            "Epoch [2/5], Loss: 0.1766, Accuracy: 94.64%\n",
            "Epoch [3/5], Loss: 0.1315, Accuracy: 95.98%\n",
            "Epoch [4/5], Loss: 0.1051, Accuracy: 96.79%\n",
            "Epoch [5/5], Loss: 0.0886, Accuracy: 97.25%\n",
            "Training with Batch Size = 64, Learning Rate = 0.2\n",
            "Epoch [1/5], Loss: 1.0742, Accuracy: 64.87%\n",
            "Epoch [2/5], Loss: 0.4207, Accuracy: 87.72%\n",
            "Epoch [3/5], Loss: 0.3126, Accuracy: 90.85%\n",
            "Epoch [4/5], Loss: 0.2590, Accuracy: 92.43%\n",
            "Epoch [5/5], Loss: 0.2263, Accuracy: 93.14%\n",
            "Training with Batch Size = 128, Learning Rate = 0.001\n",
            "Epoch [1/5], Loss: 2.1244, Accuracy: 40.69%\n",
            "Epoch [2/5], Loss: 1.7158, Accuracy: 67.79%\n",
            "Epoch [3/5], Loss: 1.3414, Accuracy: 76.15%\n",
            "Epoch [4/5], Loss: 1.0669, Accuracy: 79.98%\n",
            "Epoch [5/5], Loss: 0.8864, Accuracy: 81.95%\n",
            "Training with Batch Size = 128, Learning Rate = 0.01\n",
            "Epoch [1/5], Loss: 1.0275, Accuracy: 76.35%\n",
            "Epoch [2/5], Loss: 0.4568, Accuracy: 87.63%\n",
            "Epoch [3/5], Loss: 0.3810, Accuracy: 89.16%\n",
            "Epoch [4/5], Loss: 0.3480, Accuracy: 90.02%\n",
            "Epoch [5/5], Loss: 0.3272, Accuracy: 90.48%\n",
            "Training with Batch Size = 128, Learning Rate = 0.1\n",
            "Epoch [1/5], Loss: 0.4896, Accuracy: 84.73%\n",
            "Epoch [2/5], Loss: 0.2321, Accuracy: 93.13%\n",
            "Epoch [3/5], Loss: 0.1748, Accuracy: 94.86%\n",
            "Epoch [4/5], Loss: 0.1423, Accuracy: 95.76%\n",
            "Epoch [5/5], Loss: 0.1214, Accuracy: 96.45%\n",
            "Training with Batch Size = 128, Learning Rate = 0.2\n",
            "Epoch [1/5], Loss: 0.9877, Accuracy: 67.34%\n",
            "Epoch [2/5], Loss: 0.3673, Accuracy: 88.89%\n",
            "Epoch [3/5], Loss: 0.2682, Accuracy: 92.03%\n",
            "Epoch [4/5], Loss: 0.2266, Accuracy: 93.19%\n",
            "Epoch [5/5], Loss: 0.1945, Accuracy: 94.08%\n",
            "Training with Batch Size = 256, Learning Rate = 0.001\n",
            "Epoch [1/5], Loss: 2.2166, Accuracy: 24.56%\n",
            "Epoch [2/5], Loss: 2.0118, Accuracy: 51.80%\n",
            "Epoch [3/5], Loss: 1.8029, Accuracy: 63.75%\n",
            "Epoch [4/5], Loss: 1.5942, Accuracy: 69.82%\n",
            "Epoch [5/5], Loss: 1.4004, Accuracy: 74.28%\n",
            "Training with Batch Size = 256, Learning Rate = 0.01\n",
            "Epoch [1/5], Loss: 1.4823, Accuracy: 66.88%\n",
            "Epoch [2/5], Loss: 0.6564, Accuracy: 84.71%\n",
            "Epoch [3/5], Loss: 0.4897, Accuracy: 87.29%\n",
            "Epoch [4/5], Loss: 0.4261, Accuracy: 88.39%\n",
            "Epoch [5/5], Loss: 0.3914, Accuracy: 89.12%\n",
            "Training with Batch Size = 256, Learning Rate = 0.1\n",
            "Epoch [1/5], Loss: 0.6338, Accuracy: 80.69%\n",
            "Epoch [2/5], Loss: 0.3041, Accuracy: 90.98%\n",
            "Epoch [3/5], Loss: 0.2424, Accuracy: 92.86%\n",
            "Epoch [4/5], Loss: 0.2034, Accuracy: 94.10%\n",
            "Epoch [5/5], Loss: 0.1771, Accuracy: 94.85%\n",
            "Training with Batch Size = 256, Learning Rate = 0.2\n",
            "Epoch [1/5], Loss: 1.2777, Accuracy: 56.98%\n",
            "Epoch [2/5], Loss: 0.3805, Accuracy: 88.32%\n",
            "Epoch [3/5], Loss: 0.2872, Accuracy: 91.33%\n",
            "Epoch [4/5], Loss: 0.2417, Accuracy: 92.83%\n",
            "Epoch [5/5], Loss: 0.2142, Accuracy: 93.57%\n",
            "\n",
            "Experiment Results:\n",
            "Batch Size: 32, Learning Rate: 0.001, Test Accuracy: 89.48%\n",
            "Batch Size: 32, Learning Rate: 0.01, Test Accuracy: 94.36%\n",
            "Batch Size: 32, Learning Rate: 0.1, Test Accuracy: 96.91%\n",
            "Batch Size: 32, Learning Rate: 0.2, Test Accuracy: 64.13%\n",
            "Batch Size: 64, Learning Rate: 0.001, Test Accuracy: 87.65%\n",
            "Batch Size: 64, Learning Rate: 0.01, Test Accuracy: 92.73%\n",
            "Batch Size: 64, Learning Rate: 0.1, Test Accuracy: 96.79%\n",
            "Batch Size: 64, Learning Rate: 0.2, Test Accuracy: 94.02%\n",
            "Batch Size: 128, Learning Rate: 0.001, Test Accuracy: 83.57%\n",
            "Batch Size: 128, Learning Rate: 0.01, Test Accuracy: 91.15%\n",
            "Batch Size: 128, Learning Rate: 0.1, Test Accuracy: 96.64%\n",
            "Batch Size: 128, Learning Rate: 0.2, Test Accuracy: 93.42%\n",
            "Batch Size: 256, Learning Rate: 0.001, Test Accuracy: 77.07%\n",
            "Batch Size: 256, Learning Rate: 0.01, Test Accuracy: 89.81%\n",
            "Batch Size: 256, Learning Rate: 0.1, Test Accuracy: 94.67%\n",
            "Batch Size: 256, Learning Rate: 0.2, Test Accuracy: 91.91%\n"
          ]
        },
        {
          "output_type": "display_data",
          "data": {
            "text/plain": [
              "<Figure size 640x480 with 2 Axes>"
            ],
            "image/png": "[encoded data removed]"
          },
          "metadata": {}
        }
      ]
    },
    {
      "cell_type": "markdown",
      "source": [
        "バッチサイズが大きいと局所解に陥りやすくなります。"
      ],
      "metadata": {
        "id": "WR_azmBqIgF3"
      }
    },
    {
      "cell_type": "markdown",
      "source": [
        "## 動的なバッチサイズ変更"
      ],
      "metadata": {
        "id": "fnbKuqRzHFcj"
      }
    },
    {
      "cell_type": "markdown",
      "source": [
        "バッチサイズを少しずつ大きくする処理は以下のように実装出来ます。"
      ],
      "metadata": {
        "id": "AL0d5M1JInxf"
      }
    },
    {
      "cell_type": "code",
      "source": [
        "import torch\n",
        "import torch.nn as nn\n",
        "import torch.optim as optim\n",
        "from torch.utils.data import DataLoader\n",
        "from torchvision import datasets, transforms\n",
        "import matplotlib.pyplot as plt\n",
        "import time  # 時間計測用のライブラリ\n",
        "\n",
        "# MNISTデータセットのロードと前処理\n",
        "transform = transforms.Compose([transforms.ToTensor(), transforms.Normalize((0.5,), (0.5,))])\n",
        "\n",
        "train_dataset = datasets.MNIST(root='./data', train=True, download=True, transform=transform)\n",
        "test_dataset = datasets.MNIST(root='./data', train=False, download=True, transform=transform)\n",
        "\n",
        "# バッチサイズと学習率の設定\n",
        "initial_batch_size = 32\n",
        "max_batch_size = 256\n",
        "learning_rate = 0.1\n",
        "\n",
        "# モデルの定義\n",
        "class SimpleNN(nn.Module):\n",
        "    def __init__(self):\n",
        "        super(SimpleNN, self).__init__()\n",
        "        self.flatten = nn.Flatten()\n",
        "        self.fc1 = nn.Linear(28*28, 128)  # 入力層 -> 隠れ層\n",
        "        self.fc2 = nn.Linear(128, 10)     # 隠れ層 -> 出力層\n",
        "\n",
        "    def forward(self, x):\n",
        "        x = self.flatten(x)\n",
        "        x = torch.relu(self.fc1(x))\n",
        "        x = self.fc2(x)\n",
        "        return x\n",
        "\n",
        "# トレーニング関数\n",
        "def train_and_evaluate(batch_size, model, criterion, optimizer, train_loader, test_loader, device):\n",
        "    model.train()\n",
        "    running_loss = 0.0\n",
        "    correct = 0\n",
        "    total = 0\n",
        "\n",
        "    for images, labels in train_loader:\n",
        "        images, labels = images.to(device), labels.to(device)\n",
        "\n",
        "        optimizer.zero_grad()\n",
        "        outputs = model(images)\n",
        "        loss = criterion(outputs, labels)\n",
        "        loss.backward()\n",
        "        optimizer.step()\n",
        "\n",
        "        running_loss += loss.item()\n",
        "        _, predicted = torch.max(outputs, 1)\n",
        "        correct += (predicted == labels).sum().item()\n",
        "        total += labels.size(0)\n",
        "\n",
        "    train_accuracy = 100 * correct / total\n",
        "    print(f\"Loss: {running_loss / len(train_loader):.4f}, Accuracy: {train_accuracy:.2f}%\")\n",
        "\n",
        "    # テストデータでの評価\n",
        "    model.eval()\n",
        "    correct = 0\n",
        "    total = 0\n",
        "    with torch.no_grad():\n",
        "        for images, labels in test_loader:\n",
        "            images, labels = images.to(device), labels.to(device)\n",
        "            outputs = model(images)\n",
        "            _, predicted = torch.max(outputs, 1)\n",
        "            correct += (predicted == labels).sum().item()\n",
        "            total += labels.size(0)\n",
        "\n",
        "    test_accuracy = 100 * correct / total\n",
        "    return test_accuracy\n",
        "\n",
        "# 動的にバッチサイズを変更する関数\n",
        "def dynamic_batch_size_train(initial_batch_size, max_batch_size, model, criterion, optimizer, epochs, device):\n",
        "    current_batch_size = initial_batch_size\n",
        "    train_loader = DataLoader(train_dataset, batch_size=current_batch_size, shuffle=True)\n",
        "    test_loader = DataLoader(test_dataset, batch_size=current_batch_size, shuffle=False)\n",
        "\n",
        "    for epoch in range(epochs):\n",
        "        start_time = time.time()  # エポック開始時刻を記録\n",
        "        print(f\"\\nEpoch {epoch + 1}/{epochs} with Batch Size: {current_batch_size}\")\n",
        "\n",
        "        # トレーニングと評価を実行\n",
        "        test_accuracy = train_and_evaluate(current_batch_size, model, criterion, optimizer, train_loader, test_loader, device)\n",
        "\n",
        "        end_time = time.time()  # エポック終了時刻を記録\n",
        "        epoch_time = end_time - start_time  # 学習にかかった時間（秒）\n",
        "\n",
        "        print(f\"Epoch Time: {epoch_time:.2f} seconds\")\n",
        "\n",
        "        # バッチサイズの増加条件\n",
        "        if current_batch_size < max_batch_size:\n",
        "            current_batch_size *= 2  # バッチサイズを倍にする\n",
        "            train_loader = DataLoader(train_dataset, batch_size=current_batch_size, shuffle=True)\n",
        "            test_loader = DataLoader(test_dataset, batch_size=current_batch_size, shuffle=False)\n",
        "\n",
        "# 訓練の設定\n",
        "device = torch.device('cuda' if torch.cuda.is_available() else 'cpu')\n",
        "model = SimpleNN().to(device)\n",
        "criterion = nn.CrossEntropyLoss()\n",
        "optimizer = optim.SGD(model.parameters(), lr=learning_rate)\n",
        "\n",
        "# トレーニングの実行\n",
        "epochs = 5\n",
        "dynamic_batch_size_train(initial_batch_size, max_batch_size, model, criterion, optimizer, epochs, device)\n"
      ],
      "metadata": {
        "id": "_6xT5C4VcL9V",
        "colab": {
          "base_uri": "https://localhost:8080/"
        },
        "outputId": "0507bf08-60f7-4756-f885-5caca2afe476"
      },
      "execution_count": 2,
      "outputs": [
        {
          "output_type": "stream",
          "name": "stdout",
          "text": [
            "\n",
            "Epoch 1/5 with Batch Size: 32\n",
            "Loss: 0.3404, Accuracy: 89.20%\n",
            "Epoch Time: 16.87 seconds\n",
            "\n",
            "Epoch 2/5 with Batch Size: 64\n",
            "Loss: 0.1332, Accuracy: 95.98%\n",
            "Epoch Time: 14.73 seconds\n",
            "\n",
            "Epoch 3/5 with Batch Size: 128\n",
            "Loss: 0.0983, Accuracy: 97.08%\n",
            "Epoch Time: 14.05 seconds\n",
            "\n",
            "Epoch 4/5 with Batch Size: 256\n",
            "Loss: 0.0843, Accuracy: 97.50%\n",
            "Epoch Time: 13.65 seconds\n",
            "\n",
            "Epoch 5/5 with Batch Size: 256\n",
            "Loss: 0.0798, Accuracy: 97.66%\n",
            "Epoch Time: 13.69 seconds\n"
          ]
        }
      ]
    },
    {
      "cell_type": "code",
      "source": [],
      "metadata": {
        "id": "lv8asT-Z_hCi"
      },
      "execution_count": 2,
      "outputs": []
    }
  ],
  "metadata": {
    "kernelspec": {
      "display_name": "Python 3",
      "name": "python3"
    },
    "language_info": {
      "codemirror_mode": {
        "name": "ipython",
        "version": 3
      },
      "file_extension": ".py",
      "mimetype": "text/x-python",
      "name": "python",
      "nbconvert_exporter": "python",
      "pygments_lexer": "ipython3",
      "version": "3.10.0"
    },
    "colab": {
      "provenance": [],
      "gpuType": "T4"
    },
    "accelerator": "GPU"
  },
  "nbformat": 4,
  "nbformat_minor": 0
}