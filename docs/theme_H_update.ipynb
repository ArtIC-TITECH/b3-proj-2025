{
  "cells": [
    {
      "cell_type": "markdown",
      "metadata": {
        "id": "462te64u_ESN"
      },
      "source": [
        "[![Open in Colab](https://colab.research.google.com/assets/colab-badge.svg)](https://colab.research.google.com/github/ArtIC-TITECH/b3-proj-2024/blob/main/docs/theme_H_update.ipynb)"
      ]
    },
    {
      "cell_type": "markdown",
      "source": [
        "# リプレイメモリによるモデルの忘却防止評価"
      ],
      "metadata": {
        "id": "rvmqO6d0Zagd"
      }
    },
    {
      "cell_type": "markdown",
      "source": [
        "0~8の手書き数字データで5エポック学習させたモデルに9の手書き数字データを1エポック学習させます。"
      ],
      "metadata": {
        "id": "qsNvjVa0aDkp"
      }
    },
    {
      "cell_type": "code",
      "source": [
        "import torch\n",
        "import copy\n",
        "import torch.nn.functional as F\n",
        "from torch import nn, optim\n",
        "from torchvision import datasets, transforms\n",
        "from torch.utils.data import DataLoader, Subset\n",
        "import random\n",
        "from collections import deque\n",
        "import matplotlib.pyplot as plt\n",
        "\n",
        "# デバイスの設定\n",
        "device = torch.device(\"cuda\" if torch.cuda.is_available() else \"cpu\")\n",
        "\n",
        "# データ変換\n",
        "transform = transforms.Compose([transforms.ToTensor()])\n",
        "\n",
        "# データセットのダウンロードと準備\n",
        "train_dataset = datasets.MNIST(root='./data', train=True, download=True, transform=transform)\n",
        "test_dataset = datasets.MNIST(root='./data', train=False, download=True, transform=transform)\n",
        "\n",
        "# クラス 0〜8 のデータのみを抽出\n",
        "train_indices_0_8 = [i for i, (_, label) in enumerate(train_dataset) if label < 9]\n",
        "train_dataset_0_8 = Subset(train_dataset, train_indices_0_8)\n",
        "\n",
        "# クラス 9 のデータのみを抽出\n",
        "train_indices_9 = [i for i, (_, label) in enumerate(train_dataset) if label == 9]\n",
        "train_dataset_9 = Subset(train_dataset, train_indices_9)\n",
        "\n",
        "# データローダの作成\n",
        "train_loader_0_8 = DataLoader(train_dataset_0_8, batch_size=64, shuffle=True)\n",
        "train_loader_9 = DataLoader(train_dataset_9, batch_size=64, shuffle=True)\n",
        "test_loader = DataLoader(test_dataset, batch_size=1000, shuffle=False)\n",
        "\n",
        "# シンプルなニューラルネットワークモデル\n",
        "class SimpleNN(nn.Module):\n",
        "    def __init__(self):\n",
        "        super(SimpleNN, self).__init__()\n",
        "        self.fc1 = nn.Linear(28*28, 256)\n",
        "        self.fc2 = nn.Linear(256, 128)\n",
        "        self.fc3 = nn.Linear(128, 10)\n",
        "\n",
        "    def forward(self, x):\n",
        "        x = x.view(-1, 28*28)\n",
        "        x = F.relu(self.fc1(x))\n",
        "        x = F.relu(self.fc2(x))\n",
        "        return self.fc3(x)\n",
        "\n",
        "# モデル、損失関数、オプティマイザの定義\n",
        "model = SimpleNN().to(device)\n",
        "criterion = nn.CrossEntropyLoss()\n",
        "optimizer = optim.SGD(model.parameters(), lr=0.1, momentum=0.9)\n",
        "\n",
        "# モデルの訓練関数\n",
        "def train(model, loader, optimizer, criterion, epochs=1):\n",
        "    model.train()\n",
        "    for epoch in range(epochs):\n",
        "        for images, labels in loader:\n",
        "            images, labels = images.to(device), labels.to(device)\n",
        "            optimizer.zero_grad()\n",
        "            outputs = model(images)\n",
        "            loss = criterion(outputs, labels)\n",
        "            loss.backward()\n",
        "            optimizer.step()\n",
        "\n",
        "def evaluate(model, loader, device):\n",
        "    model.eval()\n",
        "    correct = 0\n",
        "    total = 0\n",
        "    label_counts = [0] * 10  # MNISTのラベルは0〜9なので、10個のカウント用リストを準備\n",
        "\n",
        "    with torch.no_grad():\n",
        "        for images, labels in loader:\n",
        "            images, labels = images.to(device), labels.to(device)\n",
        "            outputs = model(images)\n",
        "            _, predicted = torch.max(outputs, 1)\n",
        "\n",
        "            total += labels.size(0)\n",
        "            correct += (predicted == labels).sum().item()\n",
        "\n",
        "            # 予測ラベルごとのカウントを更新\n",
        "            for label in predicted:\n",
        "                label_counts[label.item()] += 1\n",
        "\n",
        "    # 精度を計算\n",
        "    accuracy = correct / total\n",
        "\n",
        "    return accuracy\n",
        "\n",
        "# リプレイメモリのクラス（画像単位で保存）\n",
        "class ReplayMemory:\n",
        "    def __init__(self, max_size):\n",
        "        self.memory = deque(maxlen=max_size)\n",
        "\n",
        "    def add(self, image, label):\n",
        "        self.memory.append((image, label))\n",
        "\n",
        "    def sample(self, batch_size):\n",
        "        # 個別の画像をランダムにサンプル\n",
        "        return random.sample(self.memory, batch_size)\n",
        "\n",
        "# リプレイメモリのインスタンスを作成\n",
        "replay_memory = ReplayMemory(10000)\n",
        "\n",
        "# リプレイメモリを使って訓練する関数（画像単位でサンプル）\n",
        "def train_with_replay_memory(model, loader, optimizer, criterion, replay_memory=None, epochs=1, batch_size=64):\n",
        "    model.train()\n",
        "    for epoch in range(epochs):\n",
        "        for images, labels in loader:\n",
        "            images, labels = images.to(device), labels.to(device)\n",
        "            optimizer.zero_grad()\n",
        "\n",
        "            # リプレイメモリから個別の画像をランダムにサンプル\n",
        "            if replay_memory is not None and len(replay_memory.memory) > 0:\n",
        "                replay_samples = replay_memory.sample(batch_size=batch_size)  # バッチサイズと同じ枚数\n",
        "                replay_images, replay_labels = zip(*replay_samples)\n",
        "                replay_images = torch.stack(replay_images).to(device)\n",
        "                replay_labels = torch.tensor(replay_labels).to(device)\n",
        "\n",
        "                # 新しいデータとリプレイメモリからのデータを結合\n",
        "                combined_images = torch.cat([images, replay_images], dim=0)\n",
        "                combined_labels = torch.cat([labels, replay_labels], dim=0)\n",
        "            else:\n",
        "                combined_images = images\n",
        "                combined_labels = labels\n",
        "\n",
        "            outputs = model(combined_images)\n",
        "            loss = criterion(outputs, combined_labels)\n",
        "            loss.backward()\n",
        "            optimizer.step()\n",
        "\n",
        "            # リプレイメモリに現在の画像を追加\n",
        "            if replay_memory is not None:\n",
        "                for img, lbl in zip(images, labels):\n",
        "                    replay_memory.add(img, lbl)\n",
        "\n",
        "# ステップ1: クラス 0～8 でモデルを学習\n",
        "print(\"Training on classes 0-8...\")\n",
        "train(model, train_loader_0_8, optimizer, criterion, epochs=5)\n",
        "accuracy_before = evaluate(model, test_loader, device)\n",
        "print(f\"Accuracy before learning class 9: {accuracy_before:.4f}\")\n"
      ],
      "metadata": {
        "colab": {
          "base_uri": "https://localhost:8080/"
        },
        "id": "_sSiCHMgLB4v",
        "outputId": "1a00c90e-a653-41de-f531-e0886bc4c4bc"
      },
      "execution_count": null,
      "outputs": [
        {
          "output_type": "stream",
          "name": "stdout",
          "text": [
            "Downloading http://yann.lecun.com/exdb/mnist/train-images-idx3-ubyte.gz\n",
            "Failed to download (trying next):\n",
            "HTTP Error 403: Forbidden\n",
            "\n",
            "Downloading https://ossci-datasets.s3.amazonaws.com/mnist/train-images-idx3-ubyte.gz\n",
            "Downloading https://ossci-datasets.s3.amazonaws.com/mnist/train-images-idx3-ubyte.gz to ./data/MNIST/raw/train-images-idx3-ubyte.gz\n"
          ]
        },
        {
          "output_type": "stream",
          "name": "stderr",
          "text": [
            "100%|██████████| 9.91M/9.91M [00:01<00:00, 5.22MB/s]\n"
          ]
        },
        {
          "output_type": "stream",
          "name": "stdout",
          "text": [
            "Extracting ./data/MNIST/raw/train-images-idx3-ubyte.gz to ./data/MNIST/raw\n",
            "\n",
            "Downloading http://yann.lecun.com/exdb/mnist/train-labels-idx1-ubyte.gz\n",
            "Failed to download (trying next):\n",
            "HTTP Error 403: Forbidden\n",
            "\n",
            "Downloading https://ossci-datasets.s3.amazonaws.com/mnist/train-labels-idx1-ubyte.gz\n",
            "Downloading https://ossci-datasets.s3.amazonaws.com/mnist/train-labels-idx1-ubyte.gz to ./data/MNIST/raw/train-labels-idx1-ubyte.gz\n"
          ]
        },
        {
          "output_type": "stream",
          "name": "stderr",
          "text": [
            "100%|██████████| 28.9k/28.9k [00:00<00:00, 152kB/s]\n"
          ]
        },
        {
          "output_type": "stream",
          "name": "stdout",
          "text": [
            "Extracting ./data/MNIST/raw/train-labels-idx1-ubyte.gz to ./data/MNIST/raw\n",
            "\n",
            "Downloading http://yann.lecun.com/exdb/mnist/t10k-images-idx3-ubyte.gz\n",
            "Failed to download (trying next):\n",
            "HTTP Error 403: Forbidden\n",
            "\n",
            "Downloading https://ossci-datasets.s3.amazonaws.com/mnist/t10k-images-idx3-ubyte.gz\n",
            "Downloading https://ossci-datasets.s3.amazonaws.com/mnist/t10k-images-idx3-ubyte.gz to ./data/MNIST/raw/t10k-images-idx3-ubyte.gz\n"
          ]
        },
        {
          "output_type": "stream",
          "name": "stderr",
          "text": [
            "100%|██████████| 1.65M/1.65M [00:01<00:00, 1.23MB/s]\n"
          ]
        },
        {
          "output_type": "stream",
          "name": "stdout",
          "text": [
            "Extracting ./data/MNIST/raw/t10k-images-idx3-ubyte.gz to ./data/MNIST/raw\n",
            "\n",
            "Downloading http://yann.lecun.com/exdb/mnist/t10k-labels-idx1-ubyte.gz\n",
            "Failed to download (trying next):\n",
            "HTTP Error 403: Forbidden\n",
            "\n",
            "Downloading https://ossci-datasets.s3.amazonaws.com/mnist/t10k-labels-idx1-ubyte.gz\n",
            "Downloading https://ossci-datasets.s3.amazonaws.com/mnist/t10k-labels-idx1-ubyte.gz to ./data/MNIST/raw/t10k-labels-idx1-ubyte.gz\n"
          ]
        },
        {
          "output_type": "stream",
          "name": "stderr",
          "text": [
            "100%|██████████| 4.54k/4.54k [00:00<00:00, 2.15MB/s]\n"
          ]
        },
        {
          "output_type": "stream",
          "name": "stdout",
          "text": [
            "Extracting ./data/MNIST/raw/t10k-labels-idx1-ubyte.gz to ./data/MNIST/raw\n",
            "\n",
            "Training on classes 0-8...\n",
            "Accuracy before learning class 9: 0.8794\n"
          ]
        }
      ]
    },
    {
      "cell_type": "markdown",
      "source": [
        "普通に学習させるとモデルは0~8のデータを分類する方法を忘れてしまいます。"
      ],
      "metadata": {
        "id": "mIcm-2f_aWBl"
      }
    },
    {
      "cell_type": "code",
      "source": [
        "model_no_replay = copy.deepcopy(model)\n",
        "\n",
        "# ステップ2: リプレイメモリなしで、クラス 9 のデータで学習\n",
        "print(\"Training on class 9 without replay memory...\")\n",
        "optimizer = optim.SGD(model_no_replay.parameters(), lr=0.01, momentum=0.9)\n",
        "train(model_no_replay, train_loader_9, optimizer, criterion, epochs=3)\n",
        "accuracy_after_no_replay = evaluate(model_no_replay, test_loader, device)\n",
        "print(f\"Accuracy after learning class 9 without replay memory: {accuracy_after_no_replay:.4f}\")"
      ],
      "metadata": {
        "id": "gUp3PPHYPYzj",
        "outputId": "943c9348-27fe-487f-d457-407676cc630c",
        "colab": {
          "base_uri": "https://localhost:8080/"
        }
      },
      "execution_count": null,
      "outputs": [
        {
          "output_type": "stream",
          "name": "stdout",
          "text": [
            "Training on class 9 without replay memory...\n",
            "Accuracy after learning class 9 without replay memory: 0.1508\n"
          ]
        }
      ]
    },
    {
      "cell_type": "markdown",
      "source": [
        "リプレイメモリを使うことで忘却を防ぐことができます。  \n",
        "リプレイメモリは0~8の手書き数字を保存しておくメモリで、9の手書き数字を学習する際にその一部を混ぜて学習が行われます。"
      ],
      "metadata": {
        "id": "Lp9wMIZkad_z"
      }
    },
    {
      "cell_type": "code",
      "source": [
        "model_replay = copy.deepcopy(model)\n",
        "\n",
        "# バッチサイズを変更して複数回実行するための関数（リプレイメモリを関数内で作成）\n",
        "def evaluate_with_varied_batch_sizes(model, train_loader_9, train_loader_0_8, criterion, batch_sizes, replay_memory_size, num_repeats, device):\n",
        "    results = {}\n",
        "\n",
        "    for batch_size in batch_sizes:\n",
        "        print(f\"Evaluating for batch size: {batch_size}\")\n",
        "        accuracies = []\n",
        "\n",
        "        for _ in range(num_repeats):\n",
        "            # 新しいモデルを作成して初期化\n",
        "            temp_model = copy.deepcopy(model)\n",
        "            temp_optimizer = optim.SGD(temp_model.parameters(), lr=0.01, momentum=0.9)\n",
        "\n",
        "            # 新しいリプレイメモリを初期化\n",
        "            replay_memory = ReplayMemory(max_size=replay_memory_size)\n",
        "\n",
        "            # クラス 0-8 のデータをリプレイメモリに追加\n",
        "            for images, labels in train_loader_0_8:\n",
        "                for img, lbl in zip(images, labels):\n",
        "                    replay_memory.add(img, lbl)\n",
        "\n",
        "            # リプレイメモリからのトレーニング\n",
        "            train_with_replay_memory(\n",
        "                temp_model,\n",
        "                train_loader_9,\n",
        "                temp_optimizer,\n",
        "                criterion,\n",
        "                replay_memory=replay_memory,\n",
        "                epochs=3,\n",
        "                batch_size=batch_size\n",
        "            )\n",
        "\n",
        "            # 精度を測定\n",
        "            accuracy = evaluate(temp_model, test_loader, device)\n",
        "            accuracies.append(accuracy)\n",
        "\n",
        "        # バッチサイズごとの結果を保存\n",
        "        results[batch_size] = {\n",
        "            'min': min(accuracies),\n",
        "            'max': max(accuracies),\n",
        "            'mean': sum(accuracies) / len(accuracies)\n",
        "        }\n",
        "\n",
        "    return results\n",
        "\n",
        "# バッチサイズのリストと繰り返し回数を設定\n",
        "batch_sizes = [1, 4, 16, 64, 256]\n",
        "num_repeats = 5  # 同じバッチサイズで5回実行\n",
        "replay_memory_size = 5000 # 1から45000まで\n",
        "\n",
        "# 評価を実行\n",
        "results = evaluate_with_varied_batch_sizes(\n",
        "    model_replay,\n",
        "    train_loader_9,\n",
        "    train_loader_0_8,\n",
        "    criterion,\n",
        "    batch_sizes,\n",
        "    replay_memory_size,\n",
        "    num_repeats,\n",
        "    device\n",
        ")\n",
        "\n",
        "# 結果をプロット\n",
        "x = batch_sizes\n",
        "y_min = [results[bs]['min'] for bs in batch_sizes]\n",
        "y_max = [results[bs]['max'] for bs in batch_sizes]\n",
        "y_mean = [results[bs]['mean'] for bs in batch_sizes]\n",
        "\n",
        "plt.figure(figsize=(10, 6))\n",
        "plt.plot(x, y_mean, label='Mean Accuracy', marker='o', color='blue')\n",
        "plt.fill_between(x, y_min, y_max, color='blue', alpha=0.2, label='Min-Max Range')\n",
        "plt.xlabel('Batch Size')\n",
        "plt.ylabel('Accuracy')\n",
        "plt.title('Accuracy vs. Batch Size (with Replay Memory)')\n",
        "plt.legend()\n",
        "plt.grid()\n",
        "plt.show()\n"
      ],
      "metadata": {
        "id": "8PxTSd7TeTae",
        "outputId": "95a809db-e0f6-4fd2-ec2b-4610a6edea2e",
        "colab": {
          "base_uri": "https://localhost:8080/",
          "height": 651
        }
      },
      "execution_count": null,
      "outputs": [
        {
          "output_type": "stream",
          "name": "stdout",
          "text": [
            "Evaluating for batch size: 1\n",
            "Evaluating for batch size: 4\n",
            "Evaluating for batch size: 16\n",
            "Evaluating for batch size: 64\n",
            "Evaluating for batch size: 256\n"
          ]
        },
        {
          "output_type": "display_data",
          "data": {
            "text/plain": [
              "<Figure size 1000x600 with 1 Axes>"
            ],
            "image/png": "[encoded data removed]"
          },
          "metadata": {}
        }
      ]
    },
    {
      "cell_type": "code",
      "source": [],
      "metadata": {
        "id": "7GfrIamf2yCb"
      },
      "execution_count": null,
      "outputs": []
    }
  ],
  "metadata": {
    "kernelspec": {
      "display_name": "Python 3",
      "name": "python3"
    },
    "language_info": {
      "codemirror_mode": {
        "name": "ipython",
        "version": 3
      },
      "file_extension": ".py",
      "mimetype": "text/x-python",
      "name": "python",
      "nbconvert_exporter": "python",
      "pygments_lexer": "ipython3",
      "version": "3.10.0"
    },
    "colab": {
      "provenance": []
    }
  },
  "nbformat": 4,
  "nbformat_minor": 0
}