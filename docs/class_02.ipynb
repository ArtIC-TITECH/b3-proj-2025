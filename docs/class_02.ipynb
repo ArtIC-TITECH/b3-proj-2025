{
  "cells": [
    {
      "cell_type": "markdown",
      "metadata": {
        "id": "gdiklpJlCy2d"
      },
      "source": [
        "[![Open in Colab](https://colab.research.google.com/assets/colab-badge.svg)](https://colab.research.google.com/github/ArtIC-TITECH/b3-proj-2024/blob/main/docs/class_02.ipynb)"
      ]
    },
    {
      "cell_type": "markdown",
      "source": [
        "# 本日の内容"
      ],
      "metadata": {
        "id": "7RMa249PSwUy"
      }
    },
    {
      "cell_type": "markdown",
      "source": [
        "## 目次\n",
        "1. 過学習について\n",
        "1. パラメータの数え方\n",
        "1. モデルの軽量化\n",
        "  - 量子化\n",
        "  - 枝刈り\n",
        "1. オートエンコーダについて\n",
        "1. テーマの割り当て"
      ],
      "metadata": {
        "id": "9N8a-GF9UBhC"
      }
    },
    {
      "cell_type": "markdown",
      "source": [
        "## 1. 過学習について"
      ],
      "metadata": {
        "id": "uuKn0_fRTJX4"
      }
    },
    {
      "cell_type": "markdown",
      "source": [
        "### 1-0.ライブラリのインポート"
      ],
      "metadata": {
        "id": "yODd3bEHUGqI"
      }
    },
    {
      "cell_type": "code",
      "source": [
        "import torch\n",
        "import torch.nn as nn\n",
        "import torch.optim as optim\n",
        "import torch.nn.init as init\n",
        "import numpy as np\n",
        "import matplotlib.pyplot as plt\n",
        "import torchvision\n",
        "import torchvision.transforms as transforms\n",
        "from torchvision import datasets\n",
        "from torch.utils.data import DataLoader"
      ],
      "metadata": {
        "id": "F3t0CKaLKbtf"
      },
      "execution_count": null,
      "outputs": []
    },
    {
      "cell_type": "markdown",
      "source": [
        "### 1-1.データセットの作成"
      ],
      "metadata": {
        "id": "ED7d2xjAUQhv"
      }
    },
    {
      "cell_type": "code",
      "source": [
        "# 普通のtransform (変更可能)\n",
        "transform_normal = transforms.Compose([\n",
        "    transforms.ToTensor(),\n",
        "    transforms.Normalize((0.5,), (0.5,))\n",
        "])\n",
        "\n",
        "# テストデータには普通のtransformを使ってください\n",
        "transform_for_test = transforms.Compose([\n",
        "    transforms.ToTensor(),\n",
        "    transforms.Normalize((0.5,), (0.5,))\n",
        "])\n",
        "\n",
        "train_dataset = datasets.MNIST(root='./data', train=True, download=True, transform=transform_normal)\n",
        "test_dataset = datasets.MNIST(root='./data', train=False, download=True, transform=transform_for_test)\n",
        "\n",
        "train_loader = DataLoader(dataset=train_dataset, batch_size=64, shuffle=True)\n",
        "test_loader = DataLoader(dataset=test_dataset, batch_size=64, shuffle=False)"
      ],
      "metadata": {
        "id": "Oiy3BkBDP8-G"
      },
      "execution_count": null,
      "outputs": []
    },
    {
      "cell_type": "markdown",
      "source": [
        "### 1-2.モデルの作成"
      ],
      "metadata": {
        "id": "1nNHORhqUZpJ"
      }
    },
    {
      "cell_type": "code",
      "source": [
        "class SimpleModel(nn.Module):\n",
        "    def __init__(self): # モデルのセットアップ\n",
        "        super(SimpleModel, self).__init__()\n",
        "        self.fc1 = nn.Linear(28 * 28, 128)\n",
        "        self.fc2 = nn.Linear(128, 128)\n",
        "        self.fc3 = nn.Linear(128, 10)\n",
        "\n",
        "    def forward(self, x): # モデルが行う処理\n",
        "        x = x.view(-1, 28 * 28)  # 28x28の画像を１次元に変換\n",
        "        x = self.fc1(x) # ベクトルサイズを28x28から128へ\n",
        "        x = nn.ReLU()(x) # 活性化関数\n",
        "        x = self.fc2(x) # ベクトルサイズを128から128へ\n",
        "        x = nn.ReLU()(x) # 活性化関数\n",
        "        x = self.fc3(x) # ベクトルサイズを128から10へ\n",
        "        return x\n",
        "\n",
        "# モデルのインスタンスを作成\n",
        "model = SimpleModel()"
      ],
      "metadata": {
        "id": "twQemZAhP-jA"
      },
      "execution_count": null,
      "outputs": []
    },
    {
      "cell_type": "markdown",
      "source": [
        "### 1-3. 損失関数, 最適化関数の定義"
      ],
      "metadata": {
        "id": "YGR_5xOxUgJl"
      }
    },
    {
      "cell_type": "code",
      "source": [
        "criterion = nn.CrossEntropyLoss()\n",
        "# 変更可能\n",
        "optimizer = optim.SGD(model.parameters(), lr=0.1)"
      ],
      "metadata": {
        "id": "bP99AepDQADz"
      },
      "execution_count": null,
      "outputs": []
    },
    {
      "cell_type": "markdown",
      "source": [
        "### 1-4. モデルの学習"
      ],
      "metadata": {
        "id": "6zXwjKwGUml2"
      }
    },
    {
      "cell_type": "markdown",
      "source": [
        "モデルを30エポック訓練します。  \n",
        "各エポックでの訓練損失, テスト損失, 訓練精度, テスト精度を取得します。"
      ],
      "metadata": {
        "id": "evX9NQ_QUoGb"
      }
    },
    {
      "cell_type": "code",
      "source": [
        "# エポック数\n",
        "epochs = 30\n",
        "\n",
        "# 訓練とテストの損失・精度を記録するリスト\n",
        "train_losses = []\n",
        "test_losses = []\n",
        "train_accuracies = []\n",
        "test_accuracies = []\n",
        "\n",
        "for epoch in range(epochs):\n",
        "    # 訓練フェーズ\n",
        "    model.train()  # 訓練モード\n",
        "    loss_sum = 0\n",
        "    correct_train = 0\n",
        "    total_train = 0\n",
        "    for images, labels in train_loader:\n",
        "        # モデルの予測\n",
        "        outputs = model(images)\n",
        "        # 損失の計算\n",
        "        loss = criterion(outputs, labels)\n",
        "        loss_sum += loss.item()\n",
        "        # 勾配の初期化\n",
        "        optimizer.zero_grad()\n",
        "        # バックプロパゲーション\n",
        "        loss.backward()\n",
        "        # オプティマイザの更新\n",
        "        optimizer.step()\n",
        "        # 精度の計算\n",
        "        _, predicted = torch.max(outputs.data, 1)\n",
        "        total_train += labels.size(0)\n",
        "        correct_train += (predicted == labels).sum().item()\n",
        "\n",
        "    # 訓練損失と訓練精度\n",
        "    avg_train_loss = loss_sum / len(train_loader)\n",
        "    train_loss = avg_train_loss\n",
        "    train_accuracy = 100 * correct_train / total_train\n",
        "\n",
        "    # テストフェーズ\n",
        "    model.eval()  # 評価モード\n",
        "    loss_sum_test = 0\n",
        "    correct_test = 0\n",
        "    total_test = 0\n",
        "    with torch.no_grad():\n",
        "        for images, labels in test_loader:\n",
        "            outputs = model(images)\n",
        "            loss = criterion(outputs, labels)\n",
        "            loss_sum_test += loss.item()\n",
        "\n",
        "            _, predicted = torch.max(outputs.data, 1)\n",
        "            total_test += labels.size(0)\n",
        "            correct_test += (predicted == labels).sum().item()\n",
        "\n",
        "    # テスト損失とテスト精度\n",
        "    avg_test_loss = loss_sum_test / len(test_loader)\n",
        "    test_loss = avg_test_loss\n",
        "    test_accuracy = 100 * correct_test / total_test\n",
        "\n",
        "    # 訓練とテストの損失・精度をリストに保存\n",
        "    train_losses.append(train_loss)\n",
        "    test_losses.append(test_loss)\n",
        "    train_accuracies.append(train_accuracy)\n",
        "    test_accuracies.append(test_accuracy)\n",
        "\n",
        "    # 損失と精度を表示\n",
        "    print(f'Epoch [{epoch+1}/{epochs}]')\n",
        "    print(f'Train Loss: {train_loss:.4f}, Train Accuracy: {train_accuracy:.2f}%')\n",
        "    print(f'Test Loss: {test_loss:.4f}, Test Accuracy: {test_accuracy:.2f}%')"
      ],
      "metadata": {
        "colab": {
          "base_uri": "https://localhost:8080/"
        },
        "id": "xT9a4qAWjacF",
        "outputId": "cfa5aea8-2341-4f57-ccb3-e94f876de106"
      },
      "execution_count": null,
      "outputs": [
        {
          "output_type": "stream",
          "name": "stdout",
          "text": [
            "Epoch [1/30]\n",
            "Train Loss: 0.4367, Train Accuracy: 86.03%\n",
            "Test Loss: 0.3832, Test Accuracy: 87.52%\n",
            "Epoch [2/30]\n",
            "Train Loss: 0.1705, Train Accuracy: 94.74%\n",
            "Test Loss: 0.1630, Test Accuracy: 94.77%\n",
            "Epoch [3/30]\n",
            "Train Loss: 0.1241, Train Accuracy: 96.19%\n",
            "Test Loss: 0.1234, Test Accuracy: 95.99%\n",
            "Epoch [4/30]\n",
            "Train Loss: 0.0997, Train Accuracy: 96.95%\n",
            "Test Loss: 0.0964, Test Accuracy: 97.07%\n",
            "Epoch [5/30]\n",
            "Train Loss: 0.0823, Train Accuracy: 97.46%\n",
            "Test Loss: 0.1159, Test Accuracy: 96.28%\n",
            "Epoch [6/30]\n",
            "Train Loss: 0.0711, Train Accuracy: 97.80%\n",
            "Test Loss: 0.1782, Test Accuracy: 94.35%\n",
            "Epoch [7/30]\n",
            "Train Loss: 0.0610, Train Accuracy: 98.14%\n",
            "Test Loss: 0.0934, Test Accuracy: 96.99%\n",
            "Epoch [8/30]\n",
            "Train Loss: 0.0543, Train Accuracy: 98.22%\n",
            "Test Loss: 0.0837, Test Accuracy: 97.53%\n",
            "Epoch [9/30]\n",
            "Train Loss: 0.0470, Train Accuracy: 98.51%\n",
            "Test Loss: 0.0959, Test Accuracy: 97.12%\n",
            "Epoch [10/30]\n",
            "Train Loss: 0.0423, Train Accuracy: 98.69%\n",
            "Test Loss: 0.0850, Test Accuracy: 97.29%\n",
            "Epoch [11/30]\n",
            "Train Loss: 0.0376, Train Accuracy: 98.79%\n",
            "Test Loss: 0.0969, Test Accuracy: 97.14%\n",
            "Epoch [12/30]\n",
            "Train Loss: 0.0327, Train Accuracy: 98.93%\n",
            "Test Loss: 0.0658, Test Accuracy: 97.97%\n",
            "Epoch [13/30]\n",
            "Train Loss: 0.0301, Train Accuracy: 99.00%\n",
            "Test Loss: 0.0758, Test Accuracy: 97.79%\n",
            "Epoch [14/30]\n",
            "Train Loss: 0.0248, Train Accuracy: 99.21%\n",
            "Test Loss: 0.0757, Test Accuracy: 97.81%\n",
            "Epoch [15/30]\n",
            "Train Loss: 0.0225, Train Accuracy: 99.26%\n",
            "Test Loss: 0.0660, Test Accuracy: 98.12%\n",
            "Epoch [16/30]\n",
            "Train Loss: 0.0190, Train Accuracy: 99.42%\n",
            "Test Loss: 0.1037, Test Accuracy: 97.12%\n",
            "Epoch [17/30]\n",
            "Train Loss: 0.0174, Train Accuracy: 99.45%\n",
            "Test Loss: 0.0783, Test Accuracy: 97.86%\n",
            "Epoch [18/30]\n",
            "Train Loss: 0.0172, Train Accuracy: 99.46%\n",
            "Test Loss: 0.0667, Test Accuracy: 98.00%\n",
            "Epoch [19/30]\n",
            "Train Loss: 0.0125, Train Accuracy: 99.64%\n",
            "Test Loss: 0.0972, Test Accuracy: 97.45%\n",
            "Epoch [20/30]\n",
            "Train Loss: 0.0120, Train Accuracy: 99.64%\n",
            "Test Loss: 0.0748, Test Accuracy: 98.18%\n",
            "Epoch [21/30]\n",
            "Train Loss: 0.0110, Train Accuracy: 99.66%\n",
            "Test Loss: 0.0813, Test Accuracy: 97.82%\n",
            "Epoch [22/30]\n",
            "Train Loss: 0.0090, Train Accuracy: 99.77%\n",
            "Test Loss: 0.0752, Test Accuracy: 98.14%\n",
            "Epoch [23/30]\n",
            "Train Loss: 0.0087, Train Accuracy: 99.76%\n",
            "Test Loss: 0.0747, Test Accuracy: 98.15%\n",
            "Epoch [24/30]\n",
            "Train Loss: 0.0057, Train Accuracy: 99.87%\n",
            "Test Loss: 0.1019, Test Accuracy: 97.27%\n",
            "Epoch [25/30]\n",
            "Train Loss: 0.0058, Train Accuracy: 99.83%\n",
            "Test Loss: 0.0774, Test Accuracy: 97.99%\n",
            "Epoch [26/30]\n",
            "Train Loss: 0.0049, Train Accuracy: 99.87%\n",
            "Test Loss: 0.0763, Test Accuracy: 98.19%\n",
            "Epoch [27/30]\n",
            "Train Loss: 0.0040, Train Accuracy: 99.91%\n",
            "Test Loss: 0.0724, Test Accuracy: 98.19%\n",
            "Epoch [28/30]\n",
            "Train Loss: 0.0026, Train Accuracy: 99.96%\n",
            "Test Loss: 0.0715, Test Accuracy: 98.21%\n",
            "Epoch [29/30]\n",
            "Train Loss: 0.0019, Train Accuracy: 99.98%\n",
            "Test Loss: 0.0697, Test Accuracy: 98.38%\n",
            "Epoch [30/30]\n",
            "Train Loss: 0.0015, Train Accuracy: 99.98%\n",
            "Test Loss: 0.0739, Test Accuracy: 98.33%\n"
          ]
        }
      ]
    },
    {
      "cell_type": "markdown",
      "source": [
        "### 1-5. 過学習について"
      ],
      "metadata": {
        "id": "EnYGFERmVZsm"
      }
    },
    {
      "cell_type": "markdown",
      "source": [
        "以下のセルは各エポックでの訓練損失, テスト損失, 訓練精度, テスト精度をプロットするものです。"
      ],
      "metadata": {
        "id": "oFX8GPTFVsDX"
      }
    },
    {
      "cell_type": "code",
      "source": [
        "# 訓練とテストの損失をプロット\n",
        "plt.figure(figsize=(12, 6))\n",
        "\n",
        "# 損失のプロット\n",
        "plt.subplot(1, 2, 1)\n",
        "plt.plot(range(epochs), train_losses, label='Train Loss')\n",
        "plt.plot(range(epochs), test_losses, label='Test Loss')\n",
        "plt.xlabel('Epoch')\n",
        "plt.ylabel('Loss')\n",
        "plt.title('Train vs Test Loss')\n",
        "plt.legend()\n",
        "\n",
        "# 精度のプロット\n",
        "plt.subplot(1, 2, 2)\n",
        "plt.plot(range(epochs), train_accuracies, label='Train Accuracy')\n",
        "plt.plot(range(epochs), test_accuracies, label='Test Accuracy')\n",
        "plt.xlabel('Epoch')\n",
        "plt.ylabel('Accuracy (%)')\n",
        "plt.title('Train vs Test Accuracy')\n",
        "plt.legend()\n",
        "\n",
        "# プロットを表示\n",
        "plt.tight_layout()\n",
        "plt.show()"
      ],
      "metadata": {
        "colab": {
          "base_uri": "https://localhost:8080/",
          "height": 607
        },
        "id": "TVR4OTZAjTQI",
        "outputId": "ce57a27b-9db5-4026-85c5-70d9dd757b64"
      },
      "execution_count": null,
      "outputs": [
        {
          "output_type": "display_data",
          "data": {
            "text/plain": [
              "<Figure size 1200x600 with 2 Axes>"
            ],
            "image/png": "[encoded data removed]"
          },
          "metadata": {}
        }
      ]
    },
    {
      "cell_type": "markdown",
      "source": [
        "左がLossで右が精度です。  \n",
        "訓練(青)とテスト(オレンジ)を比較するとLossも精度も訓練(青)のほうが良好です。  \n",
        "この差は過学習によるものです。過学習はモデルが訓練データに適合しすぎる現象です。"
      ],
      "metadata": {
        "id": "MjR5yQd1WRFb"
      }
    },
    {
      "cell_type": "markdown",
      "source": [
        "## 2. パラメータの数え方"
      ],
      "metadata": {
        "id": "6vN7MXrCYKxZ"
      }
    },
    {
      "cell_type": "markdown",
      "source": [
        "### 2-0.ライブラリのインポート"
      ],
      "metadata": {
        "id": "OBd4fpxfYx1I"
      }
    },
    {
      "cell_type": "code",
      "source": [
        "import torch\n",
        "import torch.nn as nn\n",
        "import torch.nn.init as init"
      ],
      "metadata": {
        "id": "POWMDff7YKQB"
      },
      "execution_count": null,
      "outputs": []
    },
    {
      "cell_type": "markdown",
      "source": [
        "### 2-1.モデルの定義"
      ],
      "metadata": {
        "id": "kJyePQgPY22F"
      }
    },
    {
      "cell_type": "markdown",
      "source": [
        "前回、線形関数の近似で使った$y=wx+b$を使います。  \n",
        "この関数で学習可能なパラメータは$w$と$b$の2つです。"
      ],
      "metadata": {
        "id": "T05t5s97ZjEs"
      }
    },
    {
      "cell_type": "code",
      "source": [
        "# モデルの定義\n",
        "class LinearRegressionModel(nn.Module):\n",
        "    def __init__(self):\n",
        "        super(LinearRegressionModel, self).__init__()\n",
        "        self.linear = nn.Linear(1, 1)  # 入力1、出力1の線形層\n",
        "        init.constant_(self.linear.weight, 0)  # 重みwをすべて0に初期化\n",
        "        init.constant_(self.linear.bias, 0)    # バイアスbをすべて0に初期化\n",
        "\n",
        "    def forward(self, x):\n",
        "        return self.linear(x)\n",
        "\n",
        "# モデルのインスタンスを作成\n",
        "model = LinearRegressionModel()"
      ],
      "metadata": {
        "id": "3tp4aoEMX8gH"
      },
      "execution_count": null,
      "outputs": []
    },
    {
      "cell_type": "markdown",
      "source": [
        "### 2-2. パラメータの数え方"
      ],
      "metadata": {
        "id": "A57F3-Jfavw_"
      }
    },
    {
      "cell_type": "markdown",
      "source": [
        "学習可能なパラメータ$w$と$b$はmodel.parameters()によってアクセスできます。"
      ],
      "metadata": {
        "id": "YMVgt_GLaZ0x"
      }
    },
    {
      "cell_type": "code",
      "source": [
        "for p in model.parameters():\n",
        "  print(p)"
      ],
      "metadata": {
        "id": "8gY8TKEZaDnR",
        "outputId": "cc7e81b7-a4fc-43ba-f1bf-d54e93ae5eed",
        "colab": {
          "base_uri": "https://localhost:8080/"
        }
      },
      "execution_count": null,
      "outputs": [
        {
          "output_type": "stream",
          "name": "stdout",
          "text": [
            "Parameter containing:\n",
            "tensor([[0.]], requires_grad=True)\n",
            "Parameter containing:\n",
            "tensor([0.], requires_grad=True)\n"
          ]
        }
      ]
    },
    {
      "cell_type": "markdown",
      "source": [
        "パラメータ数は以下のようにカウントできます。  \n",
        "numelは\"number of elements\"(要素数)の略です。"
      ],
      "metadata": {
        "id": "5kobcxO6aoS5"
      }
    },
    {
      "cell_type": "code",
      "source": [
        "num_params = sum(p.numel() for p in model.parameters())\n",
        "num_params"
      ],
      "metadata": {
        "id": "s7Bd-68OaLLX",
        "outputId": "9130b442-68a1-4716-c1af-a21fcfb4f970",
        "colab": {
          "base_uri": "https://localhost:8080/"
        }
      },
      "execution_count": null,
      "outputs": [
        {
          "output_type": "execute_result",
          "data": {
            "text/plain": [
              "2"
            ]
          },
          "metadata": {},
          "execution_count": 5
        }
      ]
    },
    {
      "cell_type": "markdown",
      "source": [
        "### 2-3. nn.Linearのパラメータ数"
      ],
      "metadata": {
        "id": "ya8GrqRpa7RO"
      }
    },
    {
      "cell_type": "markdown",
      "source": [
        "最後にnn.Linear(入力サイズ, 出力サイズ)のパラメータ数について説明します。  \n",
        "nn.Linearは(出力サイズ$\\times$入力サイズ)の重み行列$\\mathbf{W}$と(出力サイズ)のバイアスベクトル$b$を生成します。   \n",
        "したがって、パラメータ数は  \n",
        "```\n",
        "出力サイズ×入力サイズ+出力サイズ  \n",
        "```\n",
        "で計算できます。"
      ],
      "metadata": {
        "id": "5Fa9QrBMbHUH"
      }
    },
    {
      "cell_type": "code",
      "source": [
        "# 入力チャンネル数と出力チャンネル数を指定して線形層を作成\n",
        "input_channels = 5\n",
        "output_channels = 3\n",
        "linear_layer = nn.Linear(input_channels, output_channels)\n",
        "\n",
        "# パラメータ数を計算\n",
        "num_params = sum(p.numel() for p in linear_layer.parameters())\n",
        "\n",
        "print(f\"nn.Linear({input_channels}, {output_channels}) のパラメータ数: {num_params}\")"
      ],
      "metadata": {
        "id": "LMI53iVAamj9",
        "outputId": "308c91e9-9916-4bde-aa78-65fcdf21bcdf",
        "colab": {
          "base_uri": "https://localhost:8080/"
        }
      },
      "execution_count": null,
      "outputs": [
        {
          "output_type": "stream",
          "name": "stdout",
          "text": [
            "nn.Linear(5, 3) のパラメータ数: 18\n"
          ]
        }
      ]
    },
    {
      "cell_type": "markdown",
      "source": [
        "## 3. モデルの軽量化"
      ],
      "metadata": {
        "id": "oskvex-1eyfB"
      }
    },
    {
      "cell_type": "markdown",
      "source": [
        "ChatGPTに代表される大規模言語モデルは大量のパラメータを持っています。  \n",
        "例えば、Llama 7Bは約70億のパラメータを持ち、32ビット浮動小数点数で保存すると、約28GBのメモリが必要です。  \n",
        "今回は、モデルの軽量化技術として\n",
        "- パラメータを低ビットで表現する量子化\n",
        "- 一部パラメータを0にする枝刈り\n",
        "\n",
        "について紹介します。"
      ],
      "metadata": {
        "id": "C_YHIuAhgBM3"
      }
    },
    {
      "cell_type": "markdown",
      "source": [
        "### 3-1. 量子化について"
      ],
      "metadata": {
        "id": "gDF8pwM2heKe"
      }
    },
    {
      "cell_type": "markdown",
      "source": [
        "ライブラリのimport"
      ],
      "metadata": {
        "id": "VHK0kqtshpGW"
      }
    },
    {
      "cell_type": "code",
      "source": [
        "import torch"
      ],
      "metadata": {
        "id": "VBP-90DRhoLA"
      },
      "execution_count": null,
      "outputs": []
    },
    {
      "cell_type": "markdown",
      "source": [
        "今回は4つの要素を持つテンソルを量子化します。"
      ],
      "metadata": {
        "id": "sZzOHTOBh0ZJ"
      }
    },
    {
      "cell_type": "code",
      "source": [
        "# 4つの要素を持つ乱数で初期化したテンソルを作成\n",
        "original_tensor = torch.rand(4)  # 0から1の範囲の一様分布で初期化\n",
        "print(\"量子化するテンソル:\", original_tensor)"
      ],
      "metadata": {
        "id": "23abQWyGe0QD",
        "outputId": "9461c527-30f5-46fe-a2b9-5a5b3f22482e",
        "colab": {
          "base_uri": "https://localhost:8080/"
        }
      },
      "execution_count": null,
      "outputs": [
        {
          "output_type": "stream",
          "name": "stdout",
          "text": [
            "量子化するテンソル: tensor([0.2163, 0.5202, 0.3180, 0.9795])\n"
          ]
        }
      ]
    },
    {
      "cell_type": "markdown",
      "source": [
        "今回はmin-maxスケーリングと呼ばれる量子化について説明します。  \n",
        "min-maxスケーリングは最小値と最大値を基に、データを指定した範囲にスケーリングします。  \n",
        "コードの例は8bit量子化(0~255)を行います。\n",
        "\n",
        "<img src=\"https://raw.githubusercontent.com/ArtIC-TITECH/b3-proj-2024/refs/heads/main/resources/class_01/quant_asym.png\" width=\"50%\">\n",
        "\n",
        "min-maxスケーリングのアルゴリズム\n",
        "1. 最小値を0にするためにテンソルをminでひく。\n",
        "1. 0~255の範囲にするためにテンソルに255/(max-min)を乗算する。\n",
        "1. 整数化する。"
      ],
      "metadata": {
        "id": "C04hlI9yjVSh"
      }
    },
    {
      "cell_type": "code",
      "source": [
        "# 最大値と最小値の取得\n",
        "tensor_max = original_tensor.max()\n",
        "tensor_min = original_tensor.min()\n",
        "\n",
        "# 量子化\n",
        "# テンソルをminでひく\n",
        "quantized_tensor = original_tensor - tensor_min\n",
        "# テンソルに255/(max-min)を乗算する\n",
        "quantized_tensor = quantized_tensor * 255 / (tensor_max-tensor_min)\n",
        "# 整数化する\n",
        "quantized_tensor = quantized_tensor.round().clamp(0, 255).int()\n",
        "print(\"量子化されたテンソル:\", quantized_tensor)"
      ],
      "metadata": {
        "id": "vsnniklRe_SZ",
        "outputId": "53c2c62a-1961-47ce-8956-93fc47db5092",
        "colab": {
          "base_uri": "https://localhost:8080/"
        }
      },
      "execution_count": null,
      "outputs": [
        {
          "output_type": "stream",
          "name": "stdout",
          "text": [
            "量子化されたテンソル: tensor([  0, 102,  34, 255], dtype=torch.int32)\n"
          ]
        }
      ]
    },
    {
      "cell_type": "markdown",
      "source": [
        "int32とありますが0から255の範囲です。  \n",
        "量子化と反対の操作をすることでオリジナルのテンソルに近いテンソルが得られます。"
      ],
      "metadata": {
        "id": "p5ihj4a_nvTb"
      }
    },
    {
      "cell_type": "code",
      "source": [
        "# 復元\n",
        "dequantized_tensor = quantized_tensor.float() * (tensor_max-tensor_min) / 255\n",
        "dequantized_tensor = dequantized_tensor + tensor_min\n",
        "print(\"オリジナルのテンソル:\", original_tensor)\n",
        "print(\"復元されたテンソル:\", dequantized_tensor)"
      ],
      "metadata": {
        "id": "p1qz2bZYlvK0",
        "outputId": "7bf81a1d-7092-4d0f-8977-bf32212f2e74",
        "colab": {
          "base_uri": "https://localhost:8080/"
        }
      },
      "execution_count": null,
      "outputs": [
        {
          "output_type": "stream",
          "name": "stdout",
          "text": [
            "オリジナルのテンソル: tensor([0.2163, 0.5202, 0.3180, 0.9795])\n",
            "復元されたテンソル: tensor([0.2163, 0.5216, 0.3181, 0.9795])\n"
          ]
        }
      ]
    },
    {
      "cell_type": "markdown",
      "source": [
        "### 3-2. 枝刈りについて"
      ],
      "metadata": {
        "id": "c7FUvVQwrkpl"
      }
    },
    {
      "cell_type": "markdown",
      "source": [
        "枝刈りは計算への影響が小さい要素を0にする処理です。  \n",
        "今回は8つの要素を持つテンソルのうち、絶対値が小さい要素を0にする処理を実装します。"
      ],
      "metadata": {
        "id": "0YQ47YJfrgLJ"
      }
    },
    {
      "cell_type": "markdown",
      "source": [
        "<img src=\"https://raw.githubusercontent.com/ArtIC-TITECH/b3-proj-2024/refs/heads/main/resources/class_01/pruning.svg\" width=\"50%\">"
      ],
      "metadata": {
        "id": "zSU6iWKCo3D2"
      }
    },
    {
      "cell_type": "code",
      "source": [
        "# 乱数で初期化されたテンソルを作成\n",
        "tensor = torch.randn(8)\n",
        "print(\"オリジナルのテンソル:\", tensor)\n",
        "\n",
        "# プルーニングする個数\n",
        "num_prune = 2\n",
        "\n",
        "# num_prune番目に小さい絶対値をスレッショルドに\n",
        "threshold = torch.topk(tensor.abs(), num_prune, largest=False).values[-1]\n",
        "\n",
        "# 絶対値が小さい要素をプルーニング\n",
        "pruned_tensor = tensor.clone()\n",
        "pruned_tensor[torch.abs(pruned_tensor) <= threshold] = 0\n",
        "\n",
        "print(\"プルーニングされたテンソル:\", pruned_tensor)"
      ],
      "metadata": {
        "id": "kPiaCoc4nNCE",
        "outputId": "222e9be6-8b0f-4945-c8ed-0be8f80776f1",
        "colab": {
          "base_uri": "https://localhost:8080/"
        }
      },
      "execution_count": null,
      "outputs": [
        {
          "output_type": "stream",
          "name": "stdout",
          "text": [
            "オリジナルのテンソル: tensor([-0.1099,  0.8119, -1.8343, -0.2699, -1.3278, -0.4153,  1.1319, -0.0302])\n",
            "tensor([ 0.0000,  0.8119, -1.8343, -0.2699, -1.3278, -0.4153,  1.1319,  0.0000])\n"
          ]
        }
      ]
    },
    {
      "cell_type": "markdown",
      "source": [
        "## 4. オートエンコーダについて"
      ],
      "metadata": {
        "id": "eaEQvQJ5vIaT"
      }
    },
    {
      "cell_type": "markdown",
      "source": [
        "オートエンコーダは入力されたものを出力するように訓練したニューラルネットワークです。  \n",
        "オートエンコーダは情報を圧縮する「エンコーダ」と圧縮された情報を復元する「デコーダ」からなります。  \n",
        "今回はオートエンコーダを使って2つの画像の中間画像を生成する処理を実装します。"
      ],
      "metadata": {
        "id": "A4FLPtSkxmC_"
      }
    },
    {
      "cell_type": "markdown",
      "source": [
        "<img src=\"https://raw.githubusercontent.com/ArtIC-TITECH/b3-proj-2024/refs/heads/main/resources/class_01/chainer_sda_pic2.jpg\" width=\"50%\">"
      ],
      "metadata": {
        "id": "U7WMpKpMxKDh"
      }
    },
    {
      "cell_type": "markdown",
      "source": [
        "### 4-0.ライブラリのインポート"
      ],
      "metadata": {
        "id": "G6AthYUfykjv"
      }
    },
    {
      "cell_type": "code",
      "source": [
        "import torch\n",
        "import torch.nn as nn\n",
        "import torch.optim as optim\n",
        "from torchvision import datasets, transforms\n",
        "from torch.utils.data import DataLoader\n",
        "import matplotlib.pyplot as plt\n",
        "import numpy as np"
      ],
      "metadata": {
        "id": "7bFZRVt4xOoR"
      },
      "execution_count": null,
      "outputs": []
    },
    {
      "cell_type": "markdown",
      "source": [
        "### 4-1.データセットの作成"
      ],
      "metadata": {
        "id": "MrQpTlGgy-as"
      }
    },
    {
      "cell_type": "code",
      "source": [
        "transform = transforms.Compose([\n",
        "    transforms.ToTensor(),\n",
        "    transforms.Lambda(lambda x: x.view(-1))  # 28x28画像をベクトルに変換\n",
        "])\n",
        "\n",
        "train_dataset = datasets.MNIST(root='./data', train=True, download=True, transform=transform)\n",
        "train_loader = DataLoader(train_dataset, batch_size=64, shuffle=True)"
      ],
      "metadata": {
        "id": "ZTMlia1Mytm5"
      },
      "execution_count": null,
      "outputs": []
    },
    {
      "cell_type": "markdown",
      "source": [
        "### 4-2.モデルの作成"
      ],
      "metadata": {
        "id": "DfzugCfozGAz"
      }
    },
    {
      "cell_type": "code",
      "source": [
        "class Autoencoder(nn.Module):\n",
        "    def __init__(self):\n",
        "        super(Autoencoder, self).__init__()\n",
        "\n",
        "        # エンコーダ\n",
        "        self.encoder = nn.Sequential(\n",
        "            nn.Linear(28 * 28, 128),  # 画像サイズ28x28を128次元に圧縮\n",
        "            nn.ReLU(),\n",
        "            nn.Linear(128, 64),       # さらに64次元に圧縮\n",
        "            nn.ReLU(),\n",
        "            nn.Linear(64, 32)         # 潜在空間32次元\n",
        "        )\n",
        "\n",
        "        # デコーダ\n",
        "        self.decoder = nn.Sequential(\n",
        "            nn.Linear(32, 64),        # 潜在空間から64次元へ\n",
        "            nn.ReLU(),\n",
        "            nn.Linear(64, 128),       # 128次元に拡張\n",
        "            nn.ReLU(),\n",
        "            nn.Linear(128, 28 * 28),  # 元の画像サイズ28x28に復元\n",
        "            nn.Sigmoid()              # 出力を0-1に正規化\n",
        "        )\n",
        "\n",
        "    def forward(self, x):\n",
        "        z = self.encoder(x)\n",
        "        return self.decoder(z)\n",
        "\n",
        "model = Autoencoder()"
      ],
      "metadata": {
        "id": "RWqnbyriypQI"
      },
      "execution_count": null,
      "outputs": []
    },
    {
      "cell_type": "markdown",
      "source": [
        "###4-3. 損失関数, 最適化関数の定義"
      ],
      "metadata": {
        "id": "AsSjd4L7zUcP"
      }
    },
    {
      "cell_type": "code",
      "source": [
        "criterion = nn.MSELoss()\n",
        "optimizer = optim.Adam(model.parameters(), lr=1e-3)"
      ],
      "metadata": {
        "id": "1QPW1gApyrcO"
      },
      "execution_count": null,
      "outputs": []
    },
    {
      "cell_type": "markdown",
      "source": [
        "### 4-4. モデルの学習"
      ],
      "metadata": {
        "id": "hBTko1VKzcAb"
      }
    },
    {
      "cell_type": "code",
      "source": [
        "num_epochs = 10\n",
        "for epoch in range(num_epochs):\n",
        "    model.train()\n",
        "    running_loss = 0.0\n",
        "    for data in train_loader:\n",
        "        inputs, _ = data\n",
        "        inputs = inputs\n",
        "\n",
        "        optimizer.zero_grad()\n",
        "\n",
        "        outputs = model(inputs)\n",
        "        loss = criterion(outputs, inputs)\n",
        "\n",
        "        loss.backward()\n",
        "        optimizer.step()\n",
        "\n",
        "        running_loss += loss.item()\n",
        "\n",
        "    print(f'Epoch [{epoch+1}/{num_epochs}], Loss: {running_loss/len(train_loader):.4f}')"
      ],
      "metadata": {
        "id": "2xPmcVGmzrQI",
        "outputId": "1e7394de-d310-4095-a033-9f82652f98b0",
        "colab": {
          "base_uri": "https://localhost:8080/"
        }
      },
      "execution_count": null,
      "outputs": [
        {
          "output_type": "stream",
          "name": "stdout",
          "text": [
            "Epoch [1/10], Loss: 0.0484\n",
            "Epoch [2/10], Loss: 0.0264\n",
            "Epoch [3/10], Loss: 0.0207\n",
            "Epoch [4/10], Loss: 0.0177\n",
            "Epoch [5/10], Loss: 0.0156\n",
            "Epoch [6/10], Loss: 0.0142\n",
            "Epoch [7/10], Loss: 0.0132\n",
            "Epoch [8/10], Loss: 0.0124\n",
            "Epoch [9/10], Loss: 0.0117\n",
            "Epoch [10/10], Loss: 0.0112\n"
          ]
        }
      ]
    },
    {
      "cell_type": "markdown",
      "source": [
        "### 4-5. 中間画像の生成"
      ],
      "metadata": {
        "id": "80x9H8phze_o"
      }
    },
    {
      "cell_type": "code",
      "source": [
        "# サンプルの手書き数字画像を2つ選びます（インデックスを指定）\n",
        "index1, index2 = 900, 1000\n",
        "img1, _ = train_dataset[index1]\n",
        "img2, _ = train_dataset[index2]\n",
        "\n",
        "# 画像を表示する\n",
        "fig, axes = plt.subplots(1, 2, figsize=(5, 5))\n",
        "axes[0].imshow(img1.view(28, 28), cmap='gray')\n",
        "axes[0].axis('off')\n",
        "axes[0].set_title('Image 1')\n",
        "\n",
        "axes[1].imshow(img2.view(28, 28), cmap='gray')\n",
        "axes[1].axis('off')\n",
        "axes[1].set_title('Image 2')\n",
        "\n",
        "plt.show()"
      ],
      "metadata": {
        "id": "DDNNcNg80KpY",
        "outputId": "f7c5750f-ce66-4d36-bc16-15a649c88ac9",
        "colab": {
          "base_uri": "https://localhost:8080/",
          "height": 235
        }
      },
      "execution_count": null,
      "outputs": [
        {
          "output_type": "display_data",
          "data": {
            "text/plain": [
              "<Figure size 500x500 with 2 Axes>"
            ],
            "image/png": "[encoded data removed]"
          },
          "metadata": {}
        }
      ]
    },
    {
      "cell_type": "code",
      "source": [
        "# 画像をベクトルに変換\n",
        "img1 = img1.view(1, -1)\n",
        "img2 = img2.view(1, -1)\n",
        "\n",
        "# 潜在空間へのエンコード\n",
        "z1 = model.encoder(img1)\n",
        "z2 = model.encoder(img2)\n",
        "\n",
        "# 0〜1の範囲で内挿\n",
        "num_interpolations = 10\n",
        "interpolated_images = []\n",
        "alphas = np.linspace(0, 1, num_interpolations)\n",
        "\n",
        "fig, axes = plt.subplots(1, num_interpolations, figsize=(15, 5))\n",
        "for i, ax in enumerate(axes):\n",
        "    z_interpolated = (1 - alphas[i]) * z1 + alphas[i] * z2\n",
        "    img_interpolated = model.decoder(z_interpolated).view(28, 28).cpu().detach().numpy()\n",
        "    ax.imshow(img_interpolated, cmap='gray')\n",
        "    ax.axis('off')\n",
        "\n",
        "    # alphaの値を画像の下に表示\n",
        "    ax.text(0.5, -0.1, f'α = {alphas[i]:.2f}', ha='center', va='center', transform=ax.transAxes)\n",
        "\n",
        "plt.show()"
      ],
      "metadata": {
        "id": "w-_xfxlGyxht",
        "outputId": "b9f8f8be-28cb-4c34-f060-e799c7368ae4",
        "colab": {
          "base_uri": "https://localhost:8080/",
          "height": 147
        }
      },
      "execution_count": null,
      "outputs": [
        {
          "output_type": "display_data",
          "data": {
            "text/plain": [
              "<Figure size 1500x500 with 10 Axes>"
            ],
            "image/png": "[encoded data removed]"
          },
          "metadata": {}
        }
      ]
    },
    {
      "cell_type": "markdown",
      "source": [
        "## 5. テーマの割り当て"
      ],
      "metadata": {
        "id": "Bk71VFuHzEUj"
      }
    },
    {
      "cell_type": "markdown",
      "source": [
        "テーマA：最適化関数におけるMomentumの評価  \n",
        "テーマB：学習率とバッチサイズの精度への影響評価  \n",
        "テーマC：枝刈りによるモデルの性能低下の評価  \n",
        "テーマD：量子化パラメータのモデル性能への影響  \n",
        "テーマE：オートエンコーダによる画像のデノイジング  \n",
        "テーマF：モデルの敵対的サンプルへの耐性評価  \n",
        "テーマG：オートエンコーダを使った異常検知の分析  \n",
        "テーマH：リプレイメモリによるモデルの忘却防止評価  "
      ],
      "metadata": {
        "id": "LOyGRBqtzLNE"
      }
    }
  ],
  "metadata": {
    "kernelspec": {
      "display_name": "linearresnet",
      "language": "python",
      "name": "python3"
    },
    "language_info": {
      "codemirror_mode": {
        "name": "ipython",
        "version": 3
      },
      "file_extension": ".py",
      "mimetype": "text/x-python",
      "name": "python",
      "nbconvert_exporter": "python",
      "pygments_lexer": "ipython3",
      "version": "3.10.0"
    },
    "colab": {
      "provenance": []
    }
  },
  "nbformat": 4,
  "nbformat_minor": 0
}