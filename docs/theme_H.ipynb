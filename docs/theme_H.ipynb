{
  "cells": [
    {
      "cell_type": "markdown",
      "metadata": {
        "id": "462te64u_ESN"
      },
      "source": [
        "[![Open in Colab](https://colab.research.google.com/assets/colab-badge.svg)](https://colab.research.google.com/github/ArtIC-TITECH/b3-proj-2024/blob/main/docs/theme_H.ipynb)"
      ]
    },
    {
      "cell_type": "markdown",
      "source": [
        "# リプレイメモリによるモデルの忘却防止評価"
      ],
      "metadata": {
        "id": "rvmqO6d0Zagd"
      }
    },
    {
      "cell_type": "markdown",
      "source": [
        "0~8の手書き数字データで5エポック学習させたモデルに9の手書き数字データを1エポック学習させます。"
      ],
      "metadata": {
        "id": "qsNvjVa0aDkp"
      }
    },
    {
      "cell_type": "code",
      "source": [
        "import torch\n",
        "import copy\n",
        "import torch.nn.functional as F\n",
        "from torch import nn, optim\n",
        "from torchvision import datasets, transforms\n",
        "from torch.utils.data import DataLoader, Subset\n",
        "import random\n",
        "from collections import deque\n",
        "import matplotlib.pyplot as plt\n",
        "\n",
        "# デバイスの設定\n",
        "device = torch.device(\"cuda\" if torch.cuda.is_available() else \"cpu\")\n",
        "\n",
        "# データ変換\n",
        "transform = transforms.Compose([transforms.ToTensor()])\n",
        "\n",
        "# データセットのダウンロードと準備\n",
        "train_dataset = datasets.MNIST(root='./data', train=True, download=True, transform=transform)\n",
        "test_dataset = datasets.MNIST(root='./data', train=False, download=True, transform=transform)\n",
        "\n",
        "# クラス 0〜8 のデータのみを抽出\n",
        "train_indices_0_8 = [i for i, (_, label) in enumerate(train_dataset) if label < 9]\n",
        "train_dataset_0_8 = Subset(train_dataset, train_indices_0_8)\n",
        "\n",
        "# クラス 9 のデータのみを抽出\n",
        "train_indices_9 = [i for i, (_, label) in enumerate(train_dataset) if label == 9]\n",
        "train_dataset_9 = Subset(train_dataset, train_indices_9)\n",
        "\n",
        "# データローダの作成\n",
        "train_loader_0_8 = DataLoader(train_dataset_0_8, batch_size=64, shuffle=True)\n",
        "train_loader_9 = DataLoader(train_dataset_9, batch_size=64, shuffle=True)\n",
        "test_loader = DataLoader(test_dataset, batch_size=1000, shuffle=False)\n",
        "\n",
        "# シンプルなニューラルネットワークモデル\n",
        "class SimpleNN(nn.Module):\n",
        "    def __init__(self):\n",
        "        super(SimpleNN, self).__init__()\n",
        "        self.fc1 = nn.Linear(28*28, 256)\n",
        "        self.fc2 = nn.Linear(256, 128)\n",
        "        self.fc3 = nn.Linear(128, 10)\n",
        "\n",
        "    def forward(self, x):\n",
        "        x = x.view(-1, 28*28)\n",
        "        x = F.relu(self.fc1(x))\n",
        "        x = F.relu(self.fc2(x))\n",
        "        return self.fc3(x)\n",
        "\n",
        "# モデル、損失関数、オプティマイザの定義\n",
        "model = SimpleNN().to(device)\n",
        "criterion = nn.CrossEntropyLoss()\n",
        "optimizer = optim.SGD(model.parameters(), lr=0.1, momentum=0.9)\n",
        "\n",
        "# モデルの訓練関数\n",
        "def train(model, loader, optimizer, criterion, epochs=1):\n",
        "    model.train()\n",
        "    for epoch in range(epochs):\n",
        "        for images, labels in loader:\n",
        "            images, labels = images.to(device), labels.to(device)\n",
        "            optimizer.zero_grad()\n",
        "            outputs = model(images)\n",
        "            loss = criterion(outputs, labels)\n",
        "            loss.backward()\n",
        "            optimizer.step()\n",
        "\n",
        "def evaluate(model, loader, device):\n",
        "    model.eval()\n",
        "    correct = 0\n",
        "    total = 0\n",
        "    label_counts = [0] * 10  # MNISTのラベルは0〜9なので、10個のカウント用リストを準備\n",
        "\n",
        "    with torch.no_grad():\n",
        "        for images, labels in loader:\n",
        "            images, labels = images.to(device), labels.to(device)\n",
        "            outputs = model(images)\n",
        "            _, predicted = torch.max(outputs, 1)\n",
        "\n",
        "            total += labels.size(0)\n",
        "            correct += (predicted == labels).sum().item()\n",
        "\n",
        "            # 予測ラベルごとのカウントを更新\n",
        "            for label in predicted:\n",
        "                label_counts[label.item()] += 1\n",
        "\n",
        "    # 精度を計算\n",
        "    accuracy = correct / total\n",
        "\n",
        "    # ヒストグラムをプロット\n",
        "    plt.bar(range(10), label_counts, color='blue', alpha=0.7)\n",
        "    plt.xlabel('Predicted Label')\n",
        "    plt.ylabel('Count')\n",
        "    plt.title('Prediction Count per Label')\n",
        "    plt.xticks(range(10))  # x軸のラベルを0〜9に設定\n",
        "    plt.show()\n",
        "\n",
        "    return accuracy\n",
        "\n",
        "# リプレイメモリのクラス（画像単位で保存）\n",
        "class ReplayMemory:\n",
        "    def __init__(self, max_size):\n",
        "        self.memory = deque(maxlen=max_size)\n",
        "\n",
        "    def add(self, image, label):\n",
        "        self.memory.append((image, label))\n",
        "\n",
        "    def sample(self, batch_size):\n",
        "        # 個別の画像をランダムにサンプル\n",
        "        return random.sample(self.memory, batch_size)\n",
        "\n",
        "# リプレイメモリのインスタンスを作成\n",
        "replay_memory = ReplayMemory(5000)\n",
        "\n",
        "# リプレイメモリを使って訓練する関数（画像単位でサンプル）\n",
        "def train_with_replay_memory(model, loader, optimizer, criterion, replay_memory=None, epochs=1):\n",
        "    BATCH_SIZE = 64\n",
        "    model.train()\n",
        "    for epoch in range(epochs):\n",
        "        for images, labels in loader:\n",
        "            images, labels = images.to(device), labels.to(device)\n",
        "            optimizer.zero_grad()\n",
        "\n",
        "            # リプレイメモリから個別の画像をランダムにサンプル\n",
        "            if replay_memory is not None and len(replay_memory.memory) > 0:\n",
        "                replay_samples = replay_memory.sample(batch_size=BATCH_SIZE)  # バッチサイズと同じ枚数\n",
        "                replay_images, replay_labels = zip(*replay_samples)\n",
        "                replay_images = torch.stack(replay_images).to(device)\n",
        "                replay_labels = torch.tensor(replay_labels).to(device)\n",
        "\n",
        "                # 新しいデータとリプレイメモリからのデータを結合\n",
        "                combined_images = torch.cat([images, replay_images], dim=0)\n",
        "                combined_labels = torch.cat([labels, replay_labels], dim=0)\n",
        "            else:\n",
        "                combined_images = images\n",
        "                combined_labels = labels\n",
        "\n",
        "            outputs = model(combined_images)\n",
        "            loss = criterion(outputs, combined_labels)\n",
        "            loss.backward()\n",
        "            optimizer.step()\n",
        "\n",
        "            # リプレイメモリに現在の画像を追加\n",
        "            if replay_memory is not None:\n",
        "                for img, lbl in zip(images, labels):\n",
        "                    replay_memory.add(img, lbl)\n",
        "\n",
        "# ステップ1: クラス 0～8 でモデルを学習\n",
        "print(\"Training on classes 0-8...\")\n",
        "train(model, train_loader_0_8, optimizer, criterion, epochs=5)\n",
        "accuracy_before = evaluate(model, test_loader, device)\n",
        "print(f\"Accuracy before learning class 9: {accuracy_before:.4f}\")\n",
        "\n",
        "# ステップ1で学習したモデルをディープコピー\n",
        "model_no_replay = copy.deepcopy(model)\n",
        "model_replay = copy.deepcopy(model)\n"
      ],
      "metadata": {
        "colab": {
          "base_uri": "https://localhost:8080/",
          "height": 1000
        },
        "id": "_sSiCHMgLB4v",
        "outputId": "345ac5cc-0f4f-4002-9a53-e98218754fdf"
      },
      "execution_count": 1,
      "outputs": [
        {
          "output_type": "stream",
          "name": "stdout",
          "text": [
            "Downloading http://yann.lecun.com/exdb/mnist/train-images-idx3-ubyte.gz\n",
            "Failed to download (trying next):\n",
            "HTTP Error 403: Forbidden\n",
            "\n",
            "Downloading https://ossci-datasets.s3.amazonaws.com/mnist/train-images-idx3-ubyte.gz\n",
            "Downloading https://ossci-datasets.s3.amazonaws.com/mnist/train-images-idx3-ubyte.gz to ./data/MNIST/raw/train-images-idx3-ubyte.gz\n"
          ]
        },
        {
          "output_type": "stream",
          "name": "stderr",
          "text": [
            "100%|██████████| 9.91M/9.91M [00:00<00:00, 11.5MB/s]\n"
          ]
        },
        {
          "output_type": "stream",
          "name": "stdout",
          "text": [
            "Extracting ./data/MNIST/raw/train-images-idx3-ubyte.gz to ./data/MNIST/raw\n",
            "\n",
            "Downloading http://yann.lecun.com/exdb/mnist/train-labels-idx1-ubyte.gz\n",
            "Failed to download (trying next):\n",
            "HTTP Error 403: Forbidden\n",
            "\n",
            "Downloading https://ossci-datasets.s3.amazonaws.com/mnist/train-labels-idx1-ubyte.gz\n",
            "Downloading https://ossci-datasets.s3.amazonaws.com/mnist/train-labels-idx1-ubyte.gz to ./data/MNIST/raw/train-labels-idx1-ubyte.gz\n"
          ]
        },
        {
          "output_type": "stream",
          "name": "stderr",
          "text": [
            "100%|██████████| 28.9k/28.9k [00:00<00:00, 353kB/s]\n"
          ]
        },
        {
          "output_type": "stream",
          "name": "stdout",
          "text": [
            "Extracting ./data/MNIST/raw/train-labels-idx1-ubyte.gz to ./data/MNIST/raw\n",
            "\n",
            "Downloading http://yann.lecun.com/exdb/mnist/t10k-images-idx3-ubyte.gz\n",
            "Failed to download (trying next):\n",
            "HTTP Error 403: Forbidden\n",
            "\n",
            "Downloading https://ossci-datasets.s3.amazonaws.com/mnist/t10k-images-idx3-ubyte.gz\n",
            "Downloading https://ossci-datasets.s3.amazonaws.com/mnist/t10k-images-idx3-ubyte.gz to ./data/MNIST/raw/t10k-images-idx3-ubyte.gz\n"
          ]
        },
        {
          "output_type": "stream",
          "name": "stderr",
          "text": [
            "100%|██████████| 1.65M/1.65M [00:00<00:00, 3.20MB/s]\n"
          ]
        },
        {
          "output_type": "stream",
          "name": "stdout",
          "text": [
            "Extracting ./data/MNIST/raw/t10k-images-idx3-ubyte.gz to ./data/MNIST/raw\n",
            "\n",
            "Downloading http://yann.lecun.com/exdb/mnist/t10k-labels-idx1-ubyte.gz\n",
            "Failed to download (trying next):\n",
            "HTTP Error 403: Forbidden\n",
            "\n",
            "Downloading https://ossci-datasets.s3.amazonaws.com/mnist/t10k-labels-idx1-ubyte.gz\n",
            "Downloading https://ossci-datasets.s3.amazonaws.com/mnist/t10k-labels-idx1-ubyte.gz to ./data/MNIST/raw/t10k-labels-idx1-ubyte.gz\n"
          ]
        },
        {
          "output_type": "stream",
          "name": "stderr",
          "text": [
            "100%|██████████| 4.54k/4.54k [00:00<00:00, 3.92MB/s]\n"
          ]
        },
        {
          "output_type": "stream",
          "name": "stdout",
          "text": [
            "Extracting ./data/MNIST/raw/t10k-labels-idx1-ubyte.gz to ./data/MNIST/raw\n",
            "\n",
            "Training on classes 0-8...\n"
          ]
        },
        {
          "output_type": "display_data",
          "data": {
            "text/plain": [
              "<Figure size 640x480 with 1 Axes>"
            ],
            "image/png": "[encoded data removed]"
          },
          "metadata": {}
        },
        {
          "output_type": "stream",
          "name": "stdout",
          "text": [
            "Accuracy before learning class 9: 0.8775\n"
          ]
        }
      ]
    },
    {
      "cell_type": "markdown",
      "source": [
        "普通に学習させるとモデルは0~8のデータを分類する方法を忘れてしまいます。"
      ],
      "metadata": {
        "id": "mIcm-2f_aWBl"
      }
    },
    {
      "cell_type": "code",
      "source": [
        "# ステップ2: リプレイメモリなしで、クラス 9 のデータで学習\n",
        "print(\"Training on class 9 without replay memory...\")\n",
        "optimizer = optim.SGD(model_no_replay.parameters(), lr=0.1, momentum=0.9)\n",
        "train(model_no_replay, train_loader_9, optimizer, criterion, epochs=3)\n",
        "accuracy_after_no_replay = evaluate(model_no_replay, test_loader, device)\n",
        "print(f\"Accuracy after learning class 9 without replay memory: {accuracy_after_no_replay:.4f}\")"
      ],
      "metadata": {
        "id": "gUp3PPHYPYzj",
        "outputId": "0d27cb77-d0fb-4ebd-8817-294e3e3aaf6b",
        "colab": {
          "base_uri": "https://localhost:8080/",
          "height": 509
        }
      },
      "execution_count": 2,
      "outputs": [
        {
          "output_type": "stream",
          "name": "stdout",
          "text": [
            "Training on class 9 without replay memory...\n"
          ]
        },
        {
          "output_type": "display_data",
          "data": {
            "text/plain": [
              "<Figure size 640x480 with 1 Axes>"
            ],
            "image/png": "[encoded data removed]"
          },
          "metadata": {}
        },
        {
          "output_type": "stream",
          "name": "stdout",
          "text": [
            "Accuracy after learning class 9 without replay memory: 0.1009\n"
          ]
        }
      ]
    },
    {
      "cell_type": "markdown",
      "source": [
        "リプレイメモリを使うことで忘却を防ぐことができます。  \n",
        "リプレイメモリは0~8の手書き数字を保存しておくメモリで、9の手書き数字を学習する際にその一部を混ぜて学習が行われます。"
      ],
      "metadata": {
        "id": "Lp9wMIZkad_z"
      }
    },
    {
      "cell_type": "code",
      "source": [
        "# リプレイメモリにクラス0-8のデータを追加\n",
        "for images, labels in train_loader_0_8:\n",
        "    for img, lbl in zip(images, labels):\n",
        "        replay_memory.add(img, lbl)\n",
        "\n",
        "# ステップ2: リプレイメモリありで、クラス 9 のデータで学習\n",
        "print(\"Training on class 9 with replay memory...\")\n",
        "optimizer = optim.SGD(model_replay.parameters(), lr=0.1, momentum=0.9)\n",
        "train_with_replay_memory(model_replay, train_loader_9, optimizer, criterion, replay_memory=replay_memory, epochs=1)\n",
        "accuracy_after_replay = evaluate(model_replay, test_loader, device)\n",
        "print(f\"Accuracy after learning class 9 with replay memory: {accuracy_after_replay:.4f}\")"
      ],
      "metadata": {
        "id": "b8y9DnaoR7h2",
        "outputId": "3d4f10ba-3712-40a1-91e0-a3d9b856c8f5",
        "colab": {
          "base_uri": "https://localhost:8080/",
          "height": 509
        }
      },
      "execution_count": 3,
      "outputs": [
        {
          "output_type": "stream",
          "name": "stdout",
          "text": [
            "Training on class 9 with replay memory...\n"
          ]
        },
        {
          "output_type": "display_data",
          "data": {
            "text/plain": [
              "<Figure size 640x480 with 1 Axes>"
            ],
            "image/png": "[encoded data removed]"
          },
          "metadata": {}
        },
        {
          "output_type": "stream",
          "name": "stdout",
          "text": [
            "Accuracy after learning class 9 with replay memory: 0.6275\n"
          ]
        }
      ]
    },
    {
      "cell_type": "code",
      "source": [],
      "metadata": {
        "id": "8PxTSd7TeTae"
      },
      "execution_count": 3,
      "outputs": []
    }
  ],
  "metadata": {
    "kernelspec": {
      "display_name": "linearresnet",
      "language": "python",
      "name": "python3"
    },
    "language_info": {
      "codemirror_mode": {
        "name": "ipython",
        "version": 3
      },
      "file_extension": ".py",
      "mimetype": "text/x-python",
      "name": "python",
      "nbconvert_exporter": "python",
      "pygments_lexer": "ipython3",
      "version": "3.10.0"
    },
    "colab": {
      "provenance": []
    }
  },
  "nbformat": 4,
  "nbformat_minor": 0
}