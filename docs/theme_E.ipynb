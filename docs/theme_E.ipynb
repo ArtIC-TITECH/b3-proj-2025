{
  "cells": [
    {
      "cell_type": "markdown",
      "metadata": {
        "id": "462te64u_ESN"
      },
      "source": [
        "[![Open in Colab](https://colab.research.google.com/assets/colab-badge.svg)](https://colab.research.google.com/github/ArtIC-TITECH/b3-proj-2024/blob/main/docs/theme_E.ipynb)"
      ]
    },
    {
      "cell_type": "markdown",
      "source": [
        "# オートエンコーダによる画像のデノイジング"
      ],
      "metadata": {
        "id": "rvmqO6d0Zagd"
      }
    },
    {
      "cell_type": "markdown",
      "source": [
        "以下のセルでオートエンコーダを使ったデノイジングを試すことができます。"
      ],
      "metadata": {
        "id": "4HI9QoAla0I7"
      }
    },
    {
      "cell_type": "code",
      "source": [
        "import torch\n",
        "import torch.nn as nn\n",
        "import torch.optim as optim\n",
        "from torchvision import datasets, transforms\n",
        "import matplotlib.pyplot as plt\n",
        "\n",
        "# データの前処理\n",
        "transform = transforms.Compose([transforms.ToTensor()])\n",
        "\n",
        "# MNISTデータセットの読み込み\n",
        "train_dataset = datasets.MNIST(root='./data', train=True, transform=transform, download=True)\n",
        "train_loader = torch.utils.data.DataLoader(dataset=train_dataset, batch_size=64, shuffle=True)\n",
        "\n",
        "# オートエンコーダの定義\n",
        "class Autoencoder(nn.Module):\n",
        "    def __init__(self):\n",
        "        super(Autoencoder, self).__init__()\n",
        "        # エンコーダ\n",
        "        self.encoder = nn.Sequential(\n",
        "            nn.Linear(28 * 28, 128),\n",
        "            nn.ReLU(),\n",
        "            nn.Linear(128, 64),\n",
        "            nn.ReLU(),\n",
        "            nn.Linear(64, 32),\n",
        "        )\n",
        "        # デコーダ\n",
        "        self.decoder = nn.Sequential(\n",
        "            nn.Linear(32, 64),\n",
        "            nn.ReLU(),\n",
        "            nn.Linear(64, 128),\n",
        "            nn.ReLU(),\n",
        "            nn.Linear(128, 28 * 28),\n",
        "            nn.Sigmoid()  # ピクセル値を[0, 1]にスケーリング\n",
        "        )\n",
        "\n",
        "    def forward(self, x):\n",
        "        x = self.encoder(x)\n",
        "        x = self.decoder(x)\n",
        "        return x\n",
        "\n",
        "# モデルの初期化\n",
        "model = Autoencoder()\n",
        "criterion = nn.MSELoss()\n",
        "optimizer = optim.Adam(model.parameters(), lr=0.001)\n",
        "\n",
        "# 訓練関数\n",
        "def train(model, train_loader, criterion, optimizer, num_epochs=5):\n",
        "    for epoch in range(num_epochs):\n",
        "        for data in train_loader:\n",
        "            img, _ = data\n",
        "            img = img.view(-1, 28 * 28)\n",
        "            # ノイズの追加\n",
        "            noisy_img = img + 0.5 * torch.randn(img.shape)  # ノイズを加える\n",
        "            noisy_img = torch.clamp(noisy_img, 0., 1.)\n",
        "\n",
        "            # 順伝搬と損失計算\n",
        "            output = model(noisy_img)\n",
        "            loss = criterion(output, img)\n",
        "\n",
        "            # 逆伝搬と最適化\n",
        "            optimizer.zero_grad()\n",
        "            loss.backward()\n",
        "            optimizer.step()\n",
        "\n",
        "        print(f'Epoch [{epoch+1}/{num_epochs}], Loss: {loss.item():.4f}')\n",
        "\n",
        "# 訓練の実行\n",
        "train(model, train_loader, criterion, optimizer, num_epochs=10)\n",
        "\n",
        "# 結果の可視化\n",
        "def show_images(model, data_loader):\n",
        "    model.eval()\n",
        "    with torch.no_grad():\n",
        "        for data in data_loader:\n",
        "            img, _ = data\n",
        "            img = img.view(-1, 28 * 28)\n",
        "            noisy_img = img + 0.5 * torch.randn(img.shape)\n",
        "            noisy_img = torch.clamp(noisy_img, 0., 1.)\n",
        "\n",
        "            output = model(noisy_img)\n",
        "            output = output.view(-1, 1, 28, 28)\n",
        "\n",
        "            # ノイズ付き画像、再構成画像、元の画像を表示\n",
        "            fig, axes = plt.subplots(1, 3, figsize=(9, 3))\n",
        "            axes[0].imshow(noisy_img.view(-1, 1, 28, 28)[0].cpu().numpy().squeeze(), cmap='gray')\n",
        "            axes[0].set_title(\"Noisy Image\")\n",
        "            axes[1].imshow(output[0].cpu().numpy().squeeze(), cmap='gray')\n",
        "            axes[1].set_title(\"Denoised Image\")\n",
        "            axes[2].imshow(img.view(-1, 1, 28, 28)[0].cpu().numpy().squeeze(), cmap='gray')\n",
        "            axes[2].set_title(\"Original Image\")\n",
        "            plt.show()\n",
        "            break\n",
        "\n",
        "# テストデータセットの読み込み\n",
        "test_dataset = datasets.MNIST(root='./data', train=False, transform=transform, download=True)\n",
        "test_loader = torch.utils.data.DataLoader(dataset=test_dataset, batch_size=64, shuffle=False)\n",
        "\n",
        "# テスト関数の定義\n",
        "def evaluate(model, test_loader, criterion):\n",
        "    model.eval()\n",
        "    total_loss = 0\n",
        "    with torch.no_grad():\n",
        "        for data in test_loader:\n",
        "            img, _ = data\n",
        "            img = img.view(-1, 28 * 28)\n",
        "            # ノイズの追加\n",
        "            noisy_img = img + 0.5 * torch.randn(img.shape)\n",
        "            noisy_img = torch.clamp(noisy_img, 0., 1.)\n",
        "\n",
        "            # モデルの出力と損失の計算\n",
        "            output = model(noisy_img)\n",
        "            loss = criterion(output, img)\n",
        "            total_loss += loss.item()\n",
        "\n",
        "    avg_loss = total_loss / len(test_loader)\n",
        "    print(f'Test Loss: {avg_loss:.4f}')\n",
        "\n",
        "# テストデータでの評価\n",
        "evaluate(model, test_loader, criterion)\n",
        "\n",
        "# 結果の表示\n",
        "show_images(model, train_loader)\n"
      ],
      "metadata": {
        "id": "cv2PBEIdQCAY",
        "outputId": "29f7acc5-7bd3-4533-b751-2fe31df28957",
        "colab": {
          "base_uri": "https://localhost:8080/",
          "height": 491
        }
      },
      "execution_count": 4,
      "outputs": [
        {
          "output_type": "stream",
          "name": "stdout",
          "text": [
            "Epoch [1/10], Loss: 0.0403\n",
            "Epoch [2/10], Loss: 0.0304\n",
            "Epoch [3/10], Loss: 0.0277\n",
            "Epoch [4/10], Loss: 0.0217\n",
            "Epoch [5/10], Loss: 0.0251\n",
            "Epoch [6/10], Loss: 0.0230\n",
            "Epoch [7/10], Loss: 0.0204\n",
            "Epoch [8/10], Loss: 0.0191\n",
            "Epoch [9/10], Loss: 0.0188\n",
            "Epoch [10/10], Loss: 0.0175\n",
            "Test Loss: 0.0199\n"
          ]
        },
        {
          "output_type": "display_data",
          "data": {
            "text/plain": [
              "<Figure size 900x300 with 3 Axes>"
            ],
            "image/png": "[encoded data removed]"
          },
          "metadata": {}
        }
      ]
    },
    {
      "cell_type": "code",
      "source": [],
      "metadata": {
        "id": "spJ6hJClmm5A"
      },
      "execution_count": null,
      "outputs": []
    }
  ],
  "metadata": {
    "kernelspec": {
      "display_name": "linearresnet",
      "language": "python",
      "name": "python3"
    },
    "language_info": {
      "codemirror_mode": {
        "name": "ipython",
        "version": 3
      },
      "file_extension": ".py",
      "mimetype": "text/x-python",
      "name": "python",
      "nbconvert_exporter": "python",
      "pygments_lexer": "ipython3",
      "version": "3.10.0"
    },
    "colab": {
      "provenance": []
    }
  },
  "nbformat": 4,
  "nbformat_minor": 0
}