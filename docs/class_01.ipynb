{
  "cells": [
    {
      "cell_type": "markdown",
      "metadata": {
        "id": "_k1ohwo3RTgk"
      },
      "source": [
        "[![Open in Colab](https://colab.research.google.com/assets/colab-badge.svg)](https://colab.research.google.com/github/ArtIC-TITECH/b3-proj-2024/blob/main/docs/class_01.ipynb)"
      ]
    },
    {
      "cell_type": "markdown",
      "source": [
        "# 演習について"
      ],
      "metadata": {
        "id": "e13nKATZWJ1i"
      }
    },
    {
      "cell_type": "markdown",
      "source": [
        "## 演習の予定  \n",
        "第一回：ニューラルネットワークを用いたMNISTデータセットの学習  \n",
        "第二回：過学習、量子化、枝刈り、オートエンコーダ、取り組むテーマの決定  \n",
        "第三回：実験、発表資料作成  \n",
        "第四回：発表練習"
      ],
      "metadata": {
        "id": "iP-lzStFjGmz"
      }
    },
    {
      "cell_type": "markdown",
      "source": [
        "## 取り組むテーマの例\n",
        "### 精度改善\n",
        "- 最適化関数におけるMomentumの評価\n",
        "- 適切な学習率とバッチサイズの決定方法\n",
        "\n",
        "### モデルのパラメータ数削減\n",
        "- 適切な量子化パラメータの決定方法\n",
        "- 枝刈りによる性能低下の評価\n",
        "\n",
        "### その他\n",
        "- オートエンコーダによるMNISTのデノイジング\n",
        "- 敵対的サンプルへの耐性評価"
      ],
      "metadata": {
        "id": "Xsaf5qm5WQOW"
      }
    },
    {
      "cell_type": "markdown",
      "metadata": {
        "id": "UbkbttwKRTgl"
      },
      "source": [
        "# ニューラルネットワークを用いたMNISTデータセットの学習\n",
        "\n",
        "## 目次\n",
        "\n",
        "1. ニューラルネットワークを用いた線形関数の近似\n",
        "2. ニューラルネットワークを用いた手書き文字認識"
      ]
    },
    {
      "cell_type": "markdown",
      "source": [
        "## 1. ニューラルネットワークを用いた線形関数の近似"
      ],
      "metadata": {
        "id": "2uzqiE1ceEQW"
      }
    },
    {
      "cell_type": "markdown",
      "source": [
        "ニューラルネットワークは、ChatGPTや画像生成AIなどの基盤となる技術です。  \n",
        "その基本原理は、関数近似に基づいており、複雑な関数を近似できるのが特徴です。  \n",
        "この章では、ニューラルネットワークで関数近似を行う簡単な例を紹介します。\n",
        "\n",
        "ニューラルネットワークの学習は以下の流れで行います。\n",
        "1. データセットの作成\n",
        "1. モデルの作成\n",
        "1. 損失関数、最適化関数の定義\n",
        "1. モデルの学習\n",
        "1. モデルの評価\n",
        "\n",
        "今回の例ではニューラルネットワークのモデルとしてy=wx+bを用意して、そのモデルにy=2x+1を学習させます。  具体的には以下のような流れです。\n",
        "1. y=2x+1のデータを作成\n",
        "1. 初期値をw=0, b=0としてモデルy=wx+bを作成\n",
        "1. 最小化するべき関数とw, bの更新式を定義\n",
        "1. wとbを更新\n",
        "1. 得られたw, bを確認"
      ],
      "metadata": {
        "id": "3TzSjV2SeLps"
      }
    },
    {
      "cell_type": "markdown",
      "source": [
        "本題に入る前に本日使用するライブラリをimportします。"
      ],
      "metadata": {
        "id": "qgTb548WiIW8"
      }
    },
    {
      "cell_type": "code",
      "source": [
        "import torch\n",
        "import torch.nn as nn\n",
        "import torch.optim as optim\n",
        "import torch.nn.init as init\n",
        "import numpy as np\n",
        "import matplotlib.pyplot as plt\n",
        "import torchvision\n",
        "import torchvision.transforms as transforms\n",
        "from torchvision import datasets\n",
        "from torch.utils.data import DataLoader"
      ],
      "metadata": {
        "id": "hcFX_ldXiHFE"
      },
      "execution_count": null,
      "outputs": []
    },
    {
      "cell_type": "markdown",
      "source": [
        "### 1-1.データセットの作成"
      ],
      "metadata": {
        "id": "Q9GyIY_-e3FI"
      }
    },
    {
      "cell_type": "markdown",
      "source": [
        "ニューラルネットワークの学習に用いるデータセットを作成します。今回の例ではy=2x+1の関数近似をします。"
      ],
      "metadata": {
        "id": "47NaEJFhix0T"
      }
    },
    {
      "cell_type": "code",
      "source": [
        "w = 2  # 傾き\n",
        "b = 1  # 切片\n",
        "x_train = np.linspace(0, 9, 10)  # 0から9までの10個のデータ点を生成\n",
        "y_train = w * x_train + b  # 真の線形関数"
      ],
      "metadata": {
        "id": "Qvb3Hr-weCGy"
      },
      "execution_count": null,
      "outputs": []
    },
    {
      "cell_type": "code",
      "source": [
        "x_train"
      ],
      "metadata": {
        "colab": {
          "base_uri": "https://localhost:8080/"
        },
        "id": "hZghaA1njCzW",
        "outputId": "ed44cc70-86c7-4620-bc5b-cf7a8154cc2a"
      },
      "execution_count": null,
      "outputs": [
        {
          "output_type": "execute_result",
          "data": {
            "text/plain": [
              "array([0., 1., 2., 3., 4., 5., 6., 7., 8., 9.])"
            ]
          },
          "metadata": {},
          "execution_count": 3
        }
      ]
    },
    {
      "cell_type": "code",
      "source": [
        "y_train"
      ],
      "metadata": {
        "colab": {
          "base_uri": "https://localhost:8080/"
        },
        "id": "2oVGvaTajEmq",
        "outputId": "58842fe0-9aed-462c-f9cf-fb2b8a877391"
      },
      "execution_count": null,
      "outputs": [
        {
          "output_type": "execute_result",
          "data": {
            "text/plain": [
              "array([ 1.,  3.,  5.,  7.,  9., 11., 13., 15., 17., 19.])"
            ]
          },
          "metadata": {},
          "execution_count": 4
        }
      ]
    },
    {
      "cell_type": "markdown",
      "source": [
        "データ型をNumpyのarrayからPyTorchのtensorに変換します。PyTorchの処理の都合上、view(-1, 1)を使って形状を(10, 1)にします。"
      ],
      "metadata": {
        "id": "twJaS11vjsHT"
      }
    },
    {
      "cell_type": "code",
      "source": [
        "# Tensorに変換\n",
        "x_train = torch.tensor(x_train, dtype=torch.float32).view(-1, 1)  # (10, 1) の形に\n",
        "y_train = torch.tensor(y_train, dtype=torch.float32).view(-1, 1)  # (10, 1) の形に"
      ],
      "metadata": {
        "id": "_lSIJdv2jscm"
      },
      "execution_count": null,
      "outputs": []
    },
    {
      "cell_type": "code",
      "source": [
        "x_train"
      ],
      "metadata": {
        "colab": {
          "base_uri": "https://localhost:8080/"
        },
        "id": "QaBVAfh_kQcg",
        "outputId": "ea03722c-df98-44e1-a630-94b60bbc37e7"
      },
      "execution_count": null,
      "outputs": [
        {
          "output_type": "execute_result",
          "data": {
            "text/plain": [
              "tensor([[0.],\n",
              "        [1.],\n",
              "        [2.],\n",
              "        [3.],\n",
              "        [4.],\n",
              "        [5.],\n",
              "        [6.],\n",
              "        [7.],\n",
              "        [8.],\n",
              "        [9.]])"
            ]
          },
          "metadata": {},
          "execution_count": 6
        }
      ]
    },
    {
      "cell_type": "code",
      "source": [
        "y_train"
      ],
      "metadata": {
        "colab": {
          "base_uri": "https://localhost:8080/"
        },
        "id": "W69ALx87kRqO",
        "outputId": "f3bc80f9-64ef-4236-aa60-a98ce629201e"
      },
      "execution_count": null,
      "outputs": [
        {
          "output_type": "execute_result",
          "data": {
            "text/plain": [
              "tensor([[ 1.],\n",
              "        [ 3.],\n",
              "        [ 5.],\n",
              "        [ 7.],\n",
              "        [ 9.],\n",
              "        [11.],\n",
              "        [13.],\n",
              "        [15.],\n",
              "        [17.],\n",
              "        [19.]])"
            ]
          },
          "metadata": {},
          "execution_count": 7
        }
      ]
    },
    {
      "cell_type": "markdown",
      "source": [
        "### 1-2.モデルの作成"
      ],
      "metadata": {
        "id": "Ucz-ckOGkdoE"
      }
    },
    {
      "cell_type": "markdown",
      "source": [
        "ニューラルネットワークを作成します。\n",
        "``` Python\n",
        "self.linear=nn.Linear(入力サイズ, 出力サイズ)  \n",
        "```\n",
        "は(出力サイズ$\\times$入力サイズ)の重み行列$\\mathbf{W}$と(出力サイズ)のバイアスベクトル$b$を生成します。  \n",
        "そして(入力サイズ)のベクトルxを入力した際、self.linear(x)は$\\mathbf{W}x+b$を返します。  \n",
        "今回は入力サイズも出力サイズも1なので$y=wx+b$とかけます。"
      ],
      "metadata": {
        "id": "QXtjOG9SlwBN"
      }
    },
    {
      "cell_type": "code",
      "source": [
        "class LinearRegressionModel(nn.Module):\n",
        "    def __init__(self):\n",
        "        super(LinearRegressionModel, self).__init__()\n",
        "        self.linear = nn.Linear(1, 1)  # 入力1、出力1の線形層\n",
        "        init.constant_(self.linear.weight, 0)  # 重みwをすべて0に初期化\n",
        "        init.constant_(self.linear.bias, 0)    # バイアスbをすべて0に初期化\n",
        "\n",
        "    def forward(self, x):\n",
        "        return self.linear(x)\n",
        "\n",
        "# モデルのインスタンスを作成\n",
        "model = LinearRegressionModel()"
      ],
      "metadata": {
        "id": "IayH_46Ykqzy"
      },
      "execution_count": null,
      "outputs": []
    },
    {
      "cell_type": "markdown",
      "source": [
        "重みwとバイアスbをどちらも0にしたのでモデルはy=0x+0=0となり、入力に関わらず出力は0になります。"
      ],
      "metadata": {
        "id": "w490q3wxpZWr"
      }
    },
    {
      "cell_type": "code",
      "source": [
        "model(torch.Tensor([1])) # モデルにx=1を入れた際の結果"
      ],
      "metadata": {
        "colab": {
          "base_uri": "https://localhost:8080/"
        },
        "id": "BlNetiMHpFRQ",
        "outputId": "f39a0d3e-a67a-4871-d1a8-181871eb3613"
      },
      "execution_count": null,
      "outputs": [
        {
          "output_type": "execute_result",
          "data": {
            "text/plain": [
              "tensor([0.], grad_fn=<ViewBackward0>)"
            ]
          },
          "metadata": {},
          "execution_count": 9
        }
      ]
    },
    {
      "cell_type": "code",
      "source": [
        "model(torch.Tensor([[0], [1], [2], [3]])) # x=0からx=3までを入力した結果をまとめて確認することもできます"
      ],
      "metadata": {
        "colab": {
          "base_uri": "https://localhost:8080/"
        },
        "id": "Mfak02ryu9x-",
        "outputId": "41b272a3-10b2-4a44-e519-2ae3129d2f0d"
      },
      "execution_count": null,
      "outputs": [
        {
          "output_type": "execute_result",
          "data": {
            "text/plain": [
              "tensor([[0.],\n",
              "        [0.],\n",
              "        [0.],\n",
              "        [0.]], grad_fn=<AddmmBackward0>)"
            ]
          },
          "metadata": {},
          "execution_count": 10
        }
      ]
    },
    {
      "cell_type": "markdown",
      "source": [
        "モデルが現在y=0x+0であることは以下のプロットで確認できます。"
      ],
      "metadata": {
        "id": "qtqd1QJMcVcw"
      }
    },
    {
      "cell_type": "code",
      "source": [
        "with torch.no_grad():\n",
        "    predicted = model(x_train).detach().numpy()\n",
        "\n",
        "plt.plot(x_train.numpy(), predicted, label='Model output', color='blue')\n",
        "plt.legend()\n",
        "plt.show()"
      ],
      "metadata": {
        "colab": {
          "base_uri": "https://localhost:8080/",
          "height": 430
        },
        "id": "ooc2D9YqcGOe",
        "outputId": "e65d78f6-c217-457c-c22e-ac1b01a34ccc"
      },
      "execution_count": null,
      "outputs": [
        {
          "output_type": "display_data",
          "data": {
            "text/plain": [
              "<Figure size 640x480 with 1 Axes>"
            ],
            "image/png": "[encoded data removed]"
          },
          "metadata": {}
        }
      ]
    },
    {
      "cell_type": "markdown",
      "source": [
        "###1-3. 損失関数, 最適化関数の定義"
      ],
      "metadata": {
        "id": "FA7Bdwwmq3-R"
      }
    },
    {
      "cell_type": "markdown",
      "source": [
        "詳細は後述しますが  \n",
        "損失関数としてMSELoss (Mean squared error, 平均二乗誤差)を使用します。  \n",
        "また最適化関数としてSGD (Stochastic gradient descent, 確率的勾配降下法)を使用します。"
      ],
      "metadata": {
        "id": "vK7v5LGYrRv9"
      }
    },
    {
      "cell_type": "code",
      "source": [
        "criterion = nn.MSELoss()  # 平均二乗誤差を損失関数として使用\n",
        "optimizer = optim.SGD(model.parameters(), lr=0.01) # 確率的勾配降下法を最適化関数として使用"
      ],
      "metadata": {
        "id": "2C9khvF8q4VA"
      },
      "execution_count": null,
      "outputs": []
    },
    {
      "cell_type": "markdown",
      "source": [
        "### 1-4. モデルの学習"
      ],
      "metadata": {
        "id": "TN_eR9GlsY4K"
      }
    },
    {
      "cell_type": "markdown",
      "source": [
        "\n",
        "モデルの学習で重要なのが損失関数と最適化関数です。"
      ],
      "metadata": {
        "id": "l2Zj8os2vkoL"
      }
    },
    {
      "cell_type": "markdown",
      "source": [
        "#### 損失関数について\n",
        "平均二乗誤差を使ったlossはニューラルネットワークの出力y_pred=wx+bと正解データy_trainを用いて  \n",
        "$\\text{loss}=(\\text{y_pred}-\\text{y_train})^2=(wx+b-\\text{y_train})^2$  \n",
        "で計算されます。  \n",
        "例としてx=1のときy=2x+1の正解データはy_train=3です。しかしモデルの出力はy_pred=0だったとします。このときlossは$\\text{loss}=(0-3)^2=9$となります。モデルはlossができるだけ小さくなるように学習を行います。"
      ],
      "metadata": {
        "id": "R_0SsKxctOpA"
      }
    },
    {
      "cell_type": "markdown",
      "source": [
        "#### 最適化関数について\n",
        "lossを小さくするために、モデルは$y=wx+b$の$w$と$b$をそれぞれ大きくするべきか、小さくするべきか知りたいです。これを知るためにlossをwやbで微分した結果が役立ちます。  \n",
        "$$\n",
        "\\frac{\\partial\\text{loss}}{\\partial{w}}=2(wx+b-\\text{y_train})x\n",
        "$$\n",
        "が0より大きい場合、wを増やすとlossも大きくなります。反対に0より小さい場合、wを減らすとlossが大きくなります。  \n",
        "したがって$\\lambda(>0)$を微小量として以下のようにwを更新します。\n",
        "$$\n",
        "w = w-\\lambda\\frac{\\partial\\text{loss}}{\\partial{w}}\n",
        "$$\n",
        "$\\lambda$は最適化関数を定義する際にlrで指定します。  \n",
        "``` Python\n",
        "optimizer = optim.SGD(model.parameters(), lr=0.01)\n",
        "```\n",
        "\n",
        "<img src=\"https://raw.githubusercontent.com/ArtIC-TITECH/b3-proj-2024/refs/heads/main/resources/class_01/58921711597.png\" width=\"70%\">\n",
        "\n"
      ],
      "metadata": {
        "id": "k9DyAzj2vcBq"
      }
    },
    {
      "cell_type": "markdown",
      "source": [
        "#### 損失と勾配の確認"
      ],
      "metadata": {
        "id": "Q4gArbl5Ve6u"
      }
    },
    {
      "cell_type": "markdown",
      "source": [
        "実際にy=0x+0にx=1を入れた際の損失と勾配を確認します。\n",
        "近似したい関数はy=2x+1だとします。"
      ],
      "metadata": {
        "id": "2pSDA8hMVlVk"
      }
    },
    {
      "cell_type": "code",
      "source": [
        "# x=1とします\n",
        "x = torch.Tensor([1])\n",
        "\n",
        "# モデルの予測\n",
        "y = model(x)\n",
        "y"
      ],
      "metadata": {
        "colab": {
          "base_uri": "https://localhost:8080/"
        },
        "id": "VacuWU1OVYxW",
        "outputId": "e97ae802-d1f7-4e76-c308-dee04d7e1df6"
      },
      "execution_count": null,
      "outputs": [
        {
          "output_type": "execute_result",
          "data": {
            "text/plain": [
              "tensor([0.], grad_fn=<ViewBackward0>)"
            ]
          },
          "metadata": {},
          "execution_count": 13
        }
      ]
    },
    {
      "cell_type": "markdown",
      "source": [
        "損失関数  \n",
        "$\\text{loss}=(\\text{y_pred}-\\text{y_train})^2=(wx+b-\\text{y_train})^2$  \n",
        "は以下のコードで計算できます。"
      ],
      "metadata": {
        "id": "C0a82fYbctTT"
      }
    },
    {
      "cell_type": "code",
      "source": [
        "# lossの表示\n",
        "loss = criterion(y, 2*x+1)\n",
        "loss"
      ],
      "metadata": {
        "colab": {
          "base_uri": "https://localhost:8080/"
        },
        "id": "IW5ZMT6SWexq",
        "outputId": "50d02edb-22cc-4ea4-9e08-ebc171c94bdc"
      },
      "execution_count": null,
      "outputs": [
        {
          "output_type": "execute_result",
          "data": {
            "text/plain": [
              "tensor(9., grad_fn=<MseLossBackward0>)"
            ]
          },
          "metadata": {},
          "execution_count": 14
        }
      ]
    },
    {
      "cell_type": "markdown",
      "source": [
        "lossに対するwの勾配\n",
        "$$\n",
        "\\frac{\\partial\\text{loss}}{\\partial{w}}\n",
        "$$\n",
        "は以下のコードで計算できます。"
      ],
      "metadata": {
        "id": "69iF8vrPdD9E"
      }
    },
    {
      "cell_type": "code",
      "source": [
        "# 勾配の計算\n",
        "loss.backward()\n",
        "\n",
        "# aの勾配の表示\n",
        "print(model.linear.weight.grad)"
      ],
      "metadata": {
        "colab": {
          "base_uri": "https://localhost:8080/"
        },
        "id": "vpH6f8tEXDn7",
        "outputId": "d20e4577-4702-4236-c484-9260fa0a1d74"
      },
      "execution_count": null,
      "outputs": [
        {
          "output_type": "stream",
          "name": "stdout",
          "text": [
            "tensor([[-6.]])\n"
          ]
        }
      ]
    },
    {
      "cell_type": "markdown",
      "source": [
        "#### 学習の実行"
      ],
      "metadata": {
        "id": "zMXLVI8kpht5"
      }
    },
    {
      "cell_type": "markdown",
      "source": [
        "上記の損失関数と最適化関数でwとbの更新を5回行います。"
      ],
      "metadata": {
        "id": "0g9oylyupzER"
      }
    },
    {
      "cell_type": "code",
      "source": [
        "epochs = 5\n",
        "for epoch in range(epochs):\n",
        "    # モデルの予測\n",
        "    y_pred = model(x_train)\n",
        "\n",
        "    # 損失の計算\n",
        "    loss = criterion(y_pred, y_train)\n",
        "\n",
        "    # 勾配の初期化\n",
        "    optimizer.zero_grad()\n",
        "\n",
        "    # バックプロパゲーション\n",
        "    loss.backward()\n",
        "\n",
        "    # 重みの更新\n",
        "    optimizer.step()\n",
        "\n",
        "    # 損失を表示\n",
        "    print(f'Epoch [{epoch+1}/{epochs}], Loss: {loss.item():.4f}')"
      ],
      "metadata": {
        "colab": {
          "base_uri": "https://localhost:8080/"
        },
        "id": "21PH4hy7sfVP",
        "outputId": "5b6ee38f-82e0-4859-df51-22cb38a912b1"
      },
      "execution_count": null,
      "outputs": [
        {
          "output_type": "stream",
          "name": "stdout",
          "text": [
            "Epoch [1/5], Loss: 133.0000\n",
            "Epoch [2/5], Loss: 23.0816\n",
            "Epoch [3/5], Loss: 4.0907\n",
            "Epoch [4/5], Loss: 0.8086\n",
            "Epoch [5/5], Loss: 0.2404\n"
          ]
        }
      ]
    },
    {
      "cell_type": "markdown",
      "source": [
        "### 1-5. モデルの評価"
      ],
      "metadata": {
        "id": "XQ91RE-6qGJ2"
      }
    },
    {
      "cell_type": "markdown",
      "source": [
        "y=2x+1に近いモデルが得られました。"
      ],
      "metadata": {
        "id": "Fnd3jMMJp9El"
      }
    },
    {
      "cell_type": "code",
      "source": [
        "with torch.no_grad():\n",
        "    predicted = model(x_train).detach().numpy()\n",
        "\n",
        "plt.plot(x_train.numpy(), predicted, label='Model output', color='blue')\n",
        "plt.plot(x_train.numpy(), y_train.numpy(), label='y=2x+1', color='red')\n",
        "plt.legend()\n",
        "plt.show()"
      ],
      "metadata": {
        "colab": {
          "base_uri": "https://localhost:8080/",
          "height": 430
        },
        "id": "ZhmK9_BKpOpn",
        "outputId": "266ab755-a4d3-444c-975b-20f16ab2d25b"
      },
      "execution_count": null,
      "outputs": [
        {
          "output_type": "display_data",
          "data": {
            "text/plain": [
              "<Figure size 640x480 with 1 Axes>"
            ],
            "image/png": "[encoded data removed]"
          },
          "metadata": {}
        }
      ]
    },
    {
      "cell_type": "markdown",
      "source": [
        "## 2. ニューラルネットワークを用いた手書き文字認識"
      ],
      "metadata": {
        "id": "r-lOmiG8L_TU"
      }
    },
    {
      "cell_type": "markdown",
      "source": [
        "### MNISTデータセットについて\n",
        "\n",
        "MNISTデータセットは0から9までの手書き数字の画像を集めたデータセットです。  \n",
        "各画像は28x28ピクセルのグレースケール画像です。  \n",
        "今回は手書き数字の画像を入力した際、その数字を当てるようにニューラルネットワークのモデルの学習を行います。  \n",
        "手順は線形近似と同様で以下の通りです。\n",
        "\n",
        "1. データセットの作成\n",
        "1. モデルの作成\n",
        "1. 損失関数、最適化関数の定義\n",
        "1. モデルの学習\n",
        "1. モデルの評価"
      ],
      "metadata": {
        "id": "qVIHNCNOMuJw"
      }
    },
    {
      "cell_type": "markdown",
      "source": [
        "### 2-1 データセットの作成"
      ],
      "metadata": {
        "id": "6SwsTvWuPzuK"
      }
    },
    {
      "cell_type": "markdown",
      "source": [
        "データセットを読み込む前にデータセットに対して行う処理を決めます。\n"
      ],
      "metadata": {
        "id": "-pB_CdhiR9Hn"
      }
    },
    {
      "cell_type": "code",
      "source": [
        "# 普通のtransform\n",
        "transform_normal = transforms.Compose([\n",
        "    transforms.ToTensor(),\n",
        "    transforms.Normalize((0.5,), (0.5,))\n",
        "])\n",
        "\n",
        "# テストデータには普通のtransformを使ってください\n",
        "transform_for_test = transforms.Compose([\n",
        "    transforms.ToTensor(),\n",
        "    transforms.Normalize((0.5,), (0.5,))\n",
        "])\n",
        "\n",
        "# ランダム回転を加えたtransform\n",
        "transform_rotation = transforms.Compose([\n",
        "    transforms.RandomRotation(60),\n",
        "    transforms.ToTensor(),\n",
        "    transforms.Normalize((0.5,), (0.5,))\n",
        "])\n",
        "\n",
        "# ランダム水平反転を加えたtransform\n",
        "transform_flip = transforms.Compose([\n",
        "    transforms.RandomHorizontalFlip(),\n",
        "    transforms.ToTensor(),\n",
        "    transforms.Normalize((0.5,), (0.5,))\n",
        "])"
      ],
      "metadata": {
        "id": "ss0b4SATL-_M"
      },
      "execution_count": null,
      "outputs": []
    },
    {
      "cell_type": "markdown",
      "source": [
        "データセットの一部を表示する関数です。"
      ],
      "metadata": {
        "id": "N3N0eJ3EUChG"
      }
    },
    {
      "cell_type": "code",
      "source": [
        "# 画像表示用の関数（3つの画像を横に並べる）\n",
        "def imshow(img):\n",
        "    img = img / 2 + 0.5  # Normalizeされた画像の逆変換\n",
        "    npimg = img.numpy()\n",
        "    plt.imshow(np.transpose(npimg, (1, 2, 0)), cmap='gray')\n",
        "    plt.show()\n",
        "\n",
        "# サンプル画像を取得して表示（3つの画像を並べる）\n",
        "def show_samples(dataset, title):\n",
        "    loader = torch.utils.data.DataLoader(dataset, batch_size=3, shuffle=False)  # 3つ取得\n",
        "    data_iter = iter(loader)\n",
        "    images, labels = next(data_iter)  # 3つの画像を取得\n",
        "\n",
        "    print(f\"Samples from {title}:\")\n",
        "    imshow(torchvision.utils.make_grid(images, nrow=3))  # 3つ横に並べて表示\n",
        "    print(labels)"
      ],
      "metadata": {
        "id": "dHxCnH-FUJAb"
      },
      "execution_count": null,
      "outputs": []
    },
    {
      "cell_type": "markdown",
      "source": [
        "普通のtransformの結果です。(もともとのデータが表示されます。)"
      ],
      "metadata": {
        "id": "qvtuFlkMU_c6"
      }
    },
    {
      "cell_type": "code",
      "source": [
        "train_dataset = datasets.MNIST(root='./data', train=True, download=True, transform=transform_normal)\n",
        "show_samples(train_dataset, \"train dataset\")"
      ],
      "metadata": {
        "colab": {
          "base_uri": "https://localhost:8080/",
          "height": 272
        },
        "id": "5j4ZKd3MR6mX",
        "outputId": "a2ef12a5-2aaf-4174-bb55-90af9134cd41"
      },
      "execution_count": null,
      "outputs": [
        {
          "output_type": "stream",
          "name": "stdout",
          "text": [
            "Samples from train dataset:\n"
          ]
        },
        {
          "output_type": "display_data",
          "data": {
            "text/plain": [
              "<Figure size 640x480 with 1 Axes>"
            ],
            "image/png": "[encoded data removed]"
          },
          "metadata": {}
        },
        {
          "output_type": "stream",
          "name": "stdout",
          "text": [
            "tensor([5, 0, 4])\n"
          ]
        }
      ]
    },
    {
      "cell_type": "markdown",
      "source": [
        "ランダム回転を加えたtransformの結果です。"
      ],
      "metadata": {
        "id": "evqXFwrpVJc1"
      }
    },
    {
      "cell_type": "code",
      "source": [
        "train_dataset = datasets.MNIST(root='./data', train=True, download=True, transform=transform_rotation)\n",
        "show_samples(train_dataset, \"train dataset\")"
      ],
      "metadata": {
        "colab": {
          "base_uri": "https://localhost:8080/",
          "height": 272
        },
        "id": "rksoqR9qUOeG",
        "outputId": "fe843549-20ae-4f83-8582-aa5f03631a2e"
      },
      "execution_count": null,
      "outputs": [
        {
          "output_type": "stream",
          "name": "stdout",
          "text": [
            "Samples from train dataset:\n"
          ]
        },
        {
          "output_type": "display_data",
          "data": {
            "text/plain": [
              "<Figure size 640x480 with 1 Axes>"
            ],
            "image/png": "[encoded data removed]"
          },
          "metadata": {}
        },
        {
          "output_type": "stream",
          "name": "stdout",
          "text": [
            "tensor([5, 0, 4])\n"
          ]
        }
      ]
    },
    {
      "cell_type": "markdown",
      "source": [
        "ランダム水平反転を加えたtransformの結果です。"
      ],
      "metadata": {
        "id": "ODSv8SsAVPUg"
      }
    },
    {
      "cell_type": "code",
      "source": [
        "train_dataset = datasets.MNIST(root='./data', train=True, download=True, transform=transform_flip)\n",
        "show_samples(train_dataset, \"train dataset\")"
      ],
      "metadata": {
        "colab": {
          "base_uri": "https://localhost:8080/",
          "height": 272
        },
        "id": "wrfI8B8LVLk9",
        "outputId": "dbea81b0-a71b-44df-b9fa-5a3bb54f8ce2"
      },
      "execution_count": null,
      "outputs": [
        {
          "output_type": "stream",
          "name": "stdout",
          "text": [
            "Samples from train dataset:\n"
          ]
        },
        {
          "output_type": "display_data",
          "data": {
            "text/plain": [
              "<Figure size 640x480 with 1 Axes>"
            ],
            "image/png": "[encoded data removed]"
          },
          "metadata": {}
        },
        {
          "output_type": "stream",
          "name": "stdout",
          "text": [
            "tensor([5, 0, 4])\n"
          ]
        }
      ]
    },
    {
      "cell_type": "markdown",
      "source": [
        "データ変換は複数同時に適用することがほとんどで、そのような場合は`transforms.Compose`を使用して複数のデータ変換を一連の処理として指定します。\n",
        "```python\n",
        "transform = transforms.Compose(\n",
        "    [transforms.ToTensor(),\n",
        "    ...\n",
        "     ])\n",
        "```\n",
        "のようにpythonのリストで指定し、データを読み込む際に上から順番に実行されます。\n",
        "適用可能な関数の一覧は[こちら](https://pytorch.org/vision/main/transforms.html)を参照してください。"
      ],
      "metadata": {
        "id": "xp6ixuakXaxG"
      }
    },
    {
      "cell_type": "markdown",
      "source": [
        "transformを使うことで、モデルの学習に使うデータの水増しができます。  \n",
        "今回は普通のtransformを使います。"
      ],
      "metadata": {
        "id": "oXQ6Yj_gWm6E"
      }
    },
    {
      "cell_type": "code",
      "source": [
        "train_dataset = datasets.MNIST(root='./data', train=True, download=True, transform=transform_normal) # モデルの学習に使うデータセット\n",
        "test_dataset = datasets.MNIST(root='./data', train=False, download=True, transform=transform_for_test) # モデルの評価に使うデータセット"
      ],
      "metadata": {
        "id": "Gsxa8D37Wpg1"
      },
      "execution_count": null,
      "outputs": []
    },
    {
      "cell_type": "code",
      "source": [
        "len(train_dataset) # モデルの学習に使うデータセットのサイズ確認"
      ],
      "metadata": {
        "colab": {
          "base_uri": "https://localhost:8080/"
        },
        "id": "_jdHELew2eoD",
        "outputId": "e1c69924-09d9-4d09-97db-878eb40246b3"
      },
      "execution_count": null,
      "outputs": [
        {
          "output_type": "execute_result",
          "data": {
            "text/plain": [
              "60000"
            ]
          },
          "metadata": {},
          "execution_count": 24
        }
      ]
    },
    {
      "cell_type": "code",
      "source": [
        "len(test_dataset) # モデルの評価に使うデータセットのサイズ確認"
      ],
      "metadata": {
        "colab": {
          "base_uri": "https://localhost:8080/"
        },
        "id": "i3QIer5K2gH2",
        "outputId": "fc98a255-9152-4a0b-8375-254ff30ad92b"
      },
      "execution_count": null,
      "outputs": [
        {
          "output_type": "execute_result",
          "data": {
            "text/plain": [
              "10000"
            ]
          },
          "metadata": {},
          "execution_count": 25
        }
      ]
    },
    {
      "cell_type": "markdown",
      "source": [
        "データセットに含まれるデータ数は非常に大きく、一度にメモリに読み込むことは難しい場合が多いです。  \n",
        "そのため、そこで一度に読み出すデータの数を減らすことで計算負荷を減らしています。  \n",
        "これをミニバッチと呼び、ロードするデータ数をバッチサイズと呼びます。\n",
        "\n",
        "一度にすべてのデータを入力するバッチ処理  \n",
        "<img src=\"https://raw.githubusercontent.com/ArtIC-TITECH/b3-proj-2024/refs/heads/main/resources/class_01/batch_gd.png\" width=\"60%\">\n",
        "\n",
        "データを分割して入力するミニバッチ処理  \n",
        "<img src=\"https://raw.githubusercontent.com/ArtIC-TITECH/b3-proj-2024/refs/heads/main/resources/class_01/minibatch_gd.webp\" width=\"60%\">\n",
        "\n",
        "pytorchでは、こうしたミニバッチ処理を`DataLoader`というクラスを用いて行います。\\\n",
        "`DataLoader`は`batch_size`という引数で一度に読み出すデータの数を指定することができます。"
      ],
      "metadata": {
        "id": "p66AsYH-w6CX"
      }
    },
    {
      "cell_type": "code",
      "source": [
        "train_loader = DataLoader(dataset=train_dataset, batch_size=64, shuffle=True)\n",
        "test_loader = DataLoader(dataset=test_dataset, batch_size=64, shuffle=False)"
      ],
      "metadata": {
        "id": "_Jt9Nee_w5ja"
      },
      "execution_count": null,
      "outputs": []
    },
    {
      "cell_type": "markdown",
      "source": [
        "これによってtrain_loaderからデータを1回取り出すごとに64個ずつ、画像とそれに対応するラベルを読み出すことができます。"
      ],
      "metadata": {
        "id": "2m9wkCWt0-NX"
      }
    },
    {
      "cell_type": "code",
      "source": [
        "for images, labels in train_loader:\n",
        "    print(\"Images shape:\", images.shape)  # 形状の表示\n",
        "    print(\"Labels shape:\", labels.shape)  # 形状の表示\n",
        "    break # 一回目のループで終了"
      ],
      "metadata": {
        "colab": {
          "base_uri": "https://localhost:8080/"
        },
        "id": "iGUy7bXO04n9",
        "outputId": "40bb2e29-c278-4244-eda3-956a30fc8c51"
      },
      "execution_count": null,
      "outputs": [
        {
          "output_type": "stream",
          "name": "stdout",
          "text": [
            "Images shape: torch.Size([64, 1, 28, 28])\n",
            "Labels shape: torch.Size([64])\n"
          ]
        }
      ]
    },
    {
      "cell_type": "markdown",
      "source": [
        "### 2-2.モデルの作成"
      ],
      "metadata": {
        "id": "VJgvKueQ_Lqg"
      }
    },
    {
      "cell_type": "markdown",
      "source": [
        "今回は28$\\times$28の手書き数字画像を784(=28$\\times$28)個の要素を持つベクトルとして扱います。  \n",
        "画像は0から9の数字のいずれかなのでモデルは10個の要素を持つベクトルを出力します。ベクトルのそれぞれの要素は0から9の各数字に対応しており、入力された画像に対応するベクトル要素が大きくなりそれ以外の要素が小さくなるように学習を行います。"
      ],
      "metadata": {
        "id": "JZtc-UVdCE6w"
      }
    },
    {
      "cell_type": "code",
      "execution_count": null,
      "metadata": {
        "id": "pf7Pb9lsRTgm"
      },
      "outputs": [],
      "source": [
        "class SimpleModel(nn.Module):\n",
        "    def __init__(self): # モデルのセットアップ\n",
        "        super(SimpleModel, self).__init__()\n",
        "        self.fc1 = nn.Linear(28 * 28, 128)\n",
        "        self.fc2 = nn.Linear(128, 10)\n",
        "\n",
        "    def forward(self, x): # モデルが行う処理\n",
        "        x = x.view(-1, 28 * 28)  # 28x28の画像を１次元に変換\n",
        "        x = self.fc1(x) # ベクトルサイズを28x28から128へ\n",
        "        x = nn.ReLU()(x) # 活性化関数\n",
        "        x = self.fc2(x) # ベクトルサイズを128から10へ\n",
        "        return x\n",
        "\n",
        "# モデルのインスタンスを作成\n",
        "model = SimpleModel()"
      ]
    },
    {
      "cell_type": "markdown",
      "source": [
        "先ほど説明しましたが  \n",
        "```Python\n",
        "self.linear=nn.Linear(入力サイズ, 出力サイズ)  \n",
        "````\n",
        "は(出力サイズ$\\times$入力サイズ)の重み行列 W と(出力サイズ)のバイアスベクトル b を生成します。  \n",
        "そして(入力サイズ)のベクトル$x$を入力したとき(出力サイズ)のベクトル$y=Wx+b$が得られます。  \n",
        "- self.fc1 = nn.Linear(28 * 28, 128) は、28$\\times$28ピクセルの画像を1次元ベクトルに変換し、それを128次元の隠れ層にマッピングします。  \n",
        "- self.fc2 = nn.Linear(128, 10) では、128次元の隠れ層から10次元（MNISTの0～9のクラスに対応）にマッピングします。"
      ],
      "metadata": {
        "id": "XcTkCuXyNYeu"
      }
    },
    {
      "cell_type": "markdown",
      "metadata": {
        "id": "OeJIPPJZRTgs"
      },
      "source": [
        "### 活性化関数\n",
        "活性化関数とは、入力に対して非線形処理を適用しニューラルネットワークの表現力を向上させるために使用する関数です。\n",
        "\n",
        "活性化関数には様々な種類がありますが、今回の演習では`ReLU`関数を非線形関数として用います。\\\n",
        "次のコードは入力に対して`ReLU`を適用したもので、$0$以下の入力が全て$0$となることがわかります。\\\n",
        "活性化関数は2つの全結合層(nn.Linear)の間に使用します。"
      ]
    },
    {
      "cell_type": "code",
      "execution_count": null,
      "metadata": {
        "colab": {
          "base_uri": "https://localhost:8080/",
          "height": 448
        },
        "id": "ICTQH-DNRTgs",
        "outputId": "6efdc044-8b20-493a-e49f-e08d888f7ea2"
      },
      "outputs": [
        {
          "output_type": "execute_result",
          "data": {
            "text/plain": [
              "[<matplotlib.lines.Line2D at 0x7b8945341e40>]"
            ]
          },
          "metadata": {},
          "execution_count": 29
        },
        {
          "output_type": "display_data",
          "data": {
            "text/plain": [
              "<Figure size 640x480 with 1 Axes>"
            ],
            "image/png": "[encoded data removed]"
          },
          "metadata": {}
        }
      ],
      "source": [
        "input = torch.arange(-3, 4)\n",
        "output = nn.ReLU()(input)\n",
        "plt.plot(input.numpy(), output.numpy())"
      ]
    },
    {
      "cell_type": "markdown",
      "source": [
        "### 2-3.損失関数、最適化関数の定義"
      ],
      "metadata": {
        "id": "ev6TOcDhdKAw"
      }
    },
    {
      "cell_type": "markdown",
      "source": [
        "損失関数としてCrossEntropyLoss (交差エントロピー誤差)を使用します。  \n",
        "交差エントロピー誤差は[こちら](https://qiita.com/kenta1984/items/59a9ef1788e6934fd962)が参考になります。  \n",
        "また最適化関数としてSGD (Stochastic gradient descent, 確率的勾配降下法)を使用します。"
      ],
      "metadata": {
        "id": "eSkbuU-Jd6R-"
      }
    },
    {
      "cell_type": "code",
      "source": [
        "criterion = nn.CrossEntropyLoss()\n",
        "optimizer = optim.SGD(model.parameters(), lr=0.001)"
      ],
      "metadata": {
        "id": "BySD_KY-ddM5"
      },
      "execution_count": null,
      "outputs": []
    },
    {
      "cell_type": "markdown",
      "source": [
        "### 2-4.モデルの学習"
      ],
      "metadata": {
        "id": "YPHPC8bkfE4f"
      }
    },
    {
      "cell_type": "markdown",
      "source": [
        "線形関数の近似と同様に学習を行います。  \n",
        "先ほどはバッチ学習でしたが今回はミニバッチ学習です。"
      ],
      "metadata": {
        "id": "fZk8Ur9_hRCD"
      }
    },
    {
      "cell_type": "code",
      "source": [
        "epochs = 5\n",
        "for epoch in range(epochs):\n",
        "    loss_sum = 0\n",
        "    for images, labels in train_loader:\n",
        "        # モデルの予測\n",
        "        outputs = model(images)\n",
        "\n",
        "        # 損失の計算\n",
        "        loss = criterion(outputs, labels)\n",
        "        loss_sum += loss.item()\n",
        "\n",
        "        # 勾配の初期化\n",
        "        optimizer.zero_grad()\n",
        "\n",
        "        # バックプロパゲーション\n",
        "        loss.backward()\n",
        "\n",
        "        # オプティマイザの更新\n",
        "        optimizer.step()\n",
        "\n",
        "    # 損失を表示\n",
        "    print(f'Epoch [{epoch+1}/{epochs}], Loss: {loss_sum/len(train_loader):.4f}')"
      ],
      "metadata": {
        "colab": {
          "base_uri": "https://localhost:8080/"
        },
        "id": "nfMe7WmyTLUR",
        "outputId": "a3a5ea79-1d00-4f3f-816b-1fd590e559ed"
      },
      "execution_count": null,
      "outputs": [
        {
          "output_type": "stream",
          "name": "stdout",
          "text": [
            "Epoch [1/5], Loss: 1.8744\n",
            "Epoch [2/5], Loss: 1.1697\n",
            "Epoch [3/5], Loss: 0.8156\n",
            "Epoch [4/5], Loss: 0.6523\n",
            "Epoch [5/5], Loss: 0.5644\n"
          ]
        }
      ]
    },
    {
      "cell_type": "markdown",
      "source": [
        "### 2-5.モデルの評価"
      ],
      "metadata": {
        "id": "8dSCtlqZhkKF"
      }
    },
    {
      "cell_type": "markdown",
      "source": [
        "モデルの予測結果と正解データは以下のコードで表示できます。"
      ],
      "metadata": {
        "id": "wYdhAazPiq5C"
      }
    },
    {
      "cell_type": "code",
      "source": [
        "model.eval() # 評価モード\n",
        "\n",
        "# 表示する数\n",
        "num_to_show = 3\n",
        "\n",
        "with torch.no_grad():\n",
        "    for images, labels in test_loader:\n",
        "        outputs = model(images)  # モデルの出力を取得\n",
        "        _, predicted = torch.max(outputs.data, 1)  # 予測を取得\n",
        "\n",
        "        # ここで最初の3つの画像を表示\n",
        "        for i in range(min(len(images), num_to_show)):\n",
        "            plt.imshow(images[i].squeeze(), cmap='gray')  # 画像を表示\n",
        "            plt.title(f'Predicted: {predicted[i].item()}, Actual: {labels[i].item()}')\n",
        "            plt.show()\n",
        "\n",
        "        break # ループの最初で終了\n"
      ],
      "metadata": {
        "id": "Ru_l8InsiI8g",
        "outputId": "0e5b3d92-a338-4c6c-f0f3-7b9a7b948342",
        "colab": {
          "base_uri": "https://localhost:8080/",
          "height": 1000
        }
      },
      "execution_count": null,
      "outputs": [
        {
          "output_type": "display_data",
          "data": {
            "text/plain": [
              "<Figure size 640x480 with 1 Axes>"
            ],
            "image/png": "[encoded data removed]"
          },
          "metadata": {}
        },
        {
          "output_type": "display_data",
          "data": {
            "text/plain": [
              "<Figure size 640x480 with 1 Axes>"
            ],
            "image/png": "[encoded data removed]"
          },
          "metadata": {}
        },
        {
          "output_type": "display_data",
          "data": {
            "text/plain": [
              "<Figure size 640x480 with 1 Axes>"
            ],
            "image/png": "[encoded data removed]"
          },
          "metadata": {}
        }
      ]
    },
    {
      "cell_type": "markdown",
      "source": [
        "テストデータを使ってモデルの評価を行います。"
      ],
      "metadata": {
        "id": "wC7OL-kkhow9"
      }
    },
    {
      "cell_type": "code",
      "source": [
        "model.eval()  # 評価モード\n",
        "correct = 0\n",
        "total = 0\n",
        "with torch.no_grad():\n",
        "    for images, labels in test_loader:\n",
        "        outputs = model(images)\n",
        "        _, predicted = torch.max(outputs.data, 1)\n",
        "        total += labels.size(0)\n",
        "        correct += (predicted == labels).sum().item()\n",
        "\n",
        "print(f'Accuracy: {100 * correct / total:.2f}%')"
      ],
      "metadata": {
        "id": "zgbFcdJ8fPWe",
        "outputId": "1c7417a5-84dc-4df4-e0e1-ad6efd852891",
        "colab": {
          "base_uri": "https://localhost:8080/"
        }
      },
      "execution_count": null,
      "outputs": [
        {
          "output_type": "stream",
          "name": "stdout",
          "text": [
            "Accuracy: 87.12%\n"
          ]
        }
      ]
    },
    {
      "cell_type": "markdown",
      "source": [
        "## 3. 課題\n",
        "現在の精度は87.48%です。\n",
        "以下のコードのうち、変更可能な箇所を自由に変更してモデルの性能を改善してください。"
      ],
      "metadata": {
        "id": "gLtyrH3Kj2Wi"
      }
    },
    {
      "cell_type": "markdown",
      "source": [
        "### ライブラリimport\n",
        "必要に応じて追加してください。"
      ],
      "metadata": {
        "id": "NDUavfRgk_Jc"
      }
    },
    {
      "cell_type": "code",
      "source": [
        "import torch\n",
        "import torch.nn as nn\n",
        "import torch.optim as optim\n",
        "import torch.nn.init as init\n",
        "import numpy as np\n",
        "import matplotlib.pyplot as plt\n",
        "import torchvision\n",
        "import torchvision.transforms as transforms\n",
        "from torchvision import datasets\n",
        "from torch.utils.data import DataLoader"
      ],
      "metadata": {
        "id": "RZTaxPjEk-gE"
      },
      "execution_count": null,
      "outputs": []
    },
    {
      "cell_type": "markdown",
      "source": [
        "### データセット準備\n",
        "transform_normalの定義は変更可能です。"
      ],
      "metadata": {
        "id": "o0-01kiSkM01"
      }
    },
    {
      "cell_type": "code",
      "source": [
        "# 普通のtransform (変更可能)\n",
        "transform_normal = transforms.Compose([\n",
        "    transforms.ToTensor(),\n",
        "    transforms.Normalize((0.5,), (0.5,))\n",
        "])\n",
        "\n",
        "# テストデータには普通のtransformを使ってください\n",
        "transform_for_test = transforms.Compose([\n",
        "    transforms.ToTensor(),\n",
        "    transforms.Normalize((0.5,), (0.5,))\n",
        "])\n",
        "\n",
        "train_dataset = datasets.MNIST(root='./data', train=True, download=True, transform=transform_normal)\n",
        "test_dataset = datasets.MNIST(root='./data', train=False, download=True, transform=transform_for_test)\n",
        "\n",
        "train_loader = DataLoader(dataset=train_dataset, batch_size=64, shuffle=True)\n",
        "test_loader = DataLoader(dataset=test_dataset, batch_size=64, shuffle=False)"
      ],
      "metadata": {
        "id": "kTIF1dmVkGHp"
      },
      "execution_count": null,
      "outputs": []
    },
    {
      "cell_type": "markdown",
      "source": [
        "### モデル定義\n",
        "すべて変更可能です。"
      ],
      "metadata": {
        "id": "m__NfgPXkQTe"
      }
    },
    {
      "cell_type": "code",
      "source": [
        "class SimpleModel(nn.Module):\n",
        "    def __init__(self): # モデルのセットアップ\n",
        "        super(SimpleModel, self).__init__()\n",
        "        self.fc1 = nn.Linear(28 * 28, 128)\n",
        "        self.fc2 = nn.Linear(128, 10)\n",
        "\n",
        "    def forward(self, x): # モデルが行う処理\n",
        "        x = x.view(-1, 28 * 28)  # 28x28の画像を１次元に変換\n",
        "        x = self.fc1(x) # ベクトルサイズを28x28から128へ\n",
        "        x = nn.ReLU()(x) # 活性化関数\n",
        "        x = self.fc2(x) # ベクトルサイズを128から10へ\n",
        "        return x\n",
        "\n",
        "# モデルのインスタンスを作成\n",
        "model = SimpleModel()"
      ],
      "metadata": {
        "id": "Y51o3lGzgjNM"
      },
      "execution_count": null,
      "outputs": []
    },
    {
      "cell_type": "markdown",
      "source": [
        "### 損失関数、最適化関数の定義\n",
        "optimizerとlrは変更可能です。"
      ],
      "metadata": {
        "id": "P6sSjv-5keur"
      }
    },
    {
      "cell_type": "code",
      "source": [
        "criterion = nn.CrossEntropyLoss()\n",
        "# 変更可能\n",
        "optimizer = optim.SGD(model.parameters(), lr=0.001)"
      ],
      "metadata": {
        "id": "kDvgL00YkUpD"
      },
      "execution_count": null,
      "outputs": []
    },
    {
      "cell_type": "markdown",
      "source": [
        "### モデルの学習\n",
        "epochsは変更可能です。"
      ],
      "metadata": {
        "id": "VHnBY7wfkp0T"
      }
    },
    {
      "cell_type": "code",
      "source": [
        "epochs = 5\n",
        "for epoch in range(epochs):\n",
        "    loss_sum = 0\n",
        "    for images, labels in train_loader:\n",
        "        # モデルの予測\n",
        "        outputs = model(images)\n",
        "\n",
        "        # 損失の計算\n",
        "        loss = criterion(outputs, labels)\n",
        "        loss_sum += loss.item()\n",
        "\n",
        "        # 勾配の初期化\n",
        "        optimizer.zero_grad()\n",
        "\n",
        "        # バックプロパゲーション\n",
        "        loss.backward()\n",
        "\n",
        "        # オプティマイザの更新\n",
        "        optimizer.step()\n",
        "\n",
        "    # 損失を表示\n",
        "    print(f'Epoch [{epoch+1}/{epochs}], Loss: {loss_sum/len(train_loader):.4f}')"
      ],
      "metadata": {
        "id": "JddCY-iOkaAJ",
        "outputId": "3d9ff9d7-622d-4aa7-d114-5094c70013f1",
        "colab": {
          "base_uri": "https://localhost:8080/"
        }
      },
      "execution_count": null,
      "outputs": [
        {
          "output_type": "stream",
          "name": "stdout",
          "text": [
            "Epoch [1/5], Loss: 1.9339\n",
            "Epoch [2/5], Loss: 1.2147\n",
            "Epoch [3/5], Loss: 0.8302\n",
            "Epoch [4/5], Loss: 0.6575\n",
            "Epoch [5/5], Loss: 0.5668\n"
          ]
        }
      ]
    },
    {
      "cell_type": "markdown",
      "source": [
        "### モデルの評価\n",
        "評価は変更しないでください。"
      ],
      "metadata": {
        "id": "IvebSRvJktQ1"
      }
    },
    {
      "cell_type": "code",
      "source": [
        "model.eval()  # 評価モード\n",
        "correct = 0\n",
        "total = 0\n",
        "with torch.no_grad():\n",
        "    for images, labels in test_loader:\n",
        "        outputs = model(images)\n",
        "        _, predicted = torch.max(outputs.data, 1)\n",
        "        total += labels.size(0)\n",
        "        correct += (predicted == labels).sum().item()\n",
        "\n",
        "print(f'Accuracy: {100 * correct / total:.2f}%')"
      ],
      "metadata": {
        "id": "-MX95kAQkbLu",
        "outputId": "0d156b7f-e536-458e-dfc9-3b23c4ebd8f1",
        "colab": {
          "base_uri": "https://localhost:8080/"
        }
      },
      "execution_count": null,
      "outputs": [
        {
          "output_type": "stream",
          "name": "stdout",
          "text": [
            "Accuracy: 87.48%\n"
          ]
        }
      ]
    }
  ],
  "metadata": {
    "kernelspec": {
      "display_name": "linearresnet",
      "language": "python",
      "name": "python3"
    },
    "language_info": {
      "codemirror_mode": {
        "name": "ipython",
        "version": 3
      },
      "file_extension": ".py",
      "mimetype": "text/x-python",
      "name": "python",
      "nbconvert_exporter": "python",
      "pygments_lexer": "ipython3",
      "version": "3.10.0"
    },
    "colab": {
      "provenance": []
    }
  },
  "nbformat": 4,
  "nbformat_minor": 0
}