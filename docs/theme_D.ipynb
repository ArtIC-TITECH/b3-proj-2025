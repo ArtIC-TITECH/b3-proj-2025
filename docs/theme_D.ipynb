{
  "cells": [
    {
      "cell_type": "markdown",
      "metadata": {
        "id": "462te64u_ESN"
      },
      "source": [
        "[![Open in Colab](https://colab.research.google.com/assets/colab-badge.svg)](https://colab.research.google.com/github/ArtIC-TITECH/b3-proj-2024/blob/main/docs/theme_D.ipynb)"
      ]
    },
    {
      "cell_type": "markdown",
      "source": [
        "# 量子化パラメータのモデル性能への影響"
      ],
      "metadata": {
        "id": "rvmqO6d0Zagd"
      }
    },
    {
      "cell_type": "markdown",
      "source": [
        "## Min-Maxスケーリングによる量子化"
      ],
      "metadata": {
        "id": "2jFZODGvdz7P"
      }
    },
    {
      "cell_type": "code",
      "source": [
        "import torch\n",
        "\n",
        "def quantize(tensor, bit_depth=8):\n",
        "    # 最小値を0にする\n",
        "    tensor_max = tensor.max()\n",
        "    tensor_min = tensor.min()\n",
        "    tensor = tensor - tensor_min\n",
        "\n",
        "    # 0~(2^bit_depth - 1)の範囲にスケールする\n",
        "    max_val = (2 ** bit_depth) - 1\n",
        "    tensor = tensor * (max_val / (tensor_max - tensor_min))\n",
        "\n",
        "    # clampで範囲外の値を制限\n",
        "    tensor = torch.clamp(tensor, 0, max_val)\n",
        "\n",
        "    # 整数化\n",
        "    tensor = tensor.round().to(torch.int)\n",
        "\n",
        "    return tensor, tensor_min, tensor_max\n",
        "\n",
        "def dequantize(quantized_tensor, tensor_min, tensor_max, bit_depth=8):\n",
        "    # 最大値と最小値を計算\n",
        "    max_val = (2 ** bit_depth) - 1\n",
        "\n",
        "    # 元のスケールに戻す\n",
        "    tensor = quantized_tensor.float()\n",
        "\n",
        "    # スケールの逆を適用\n",
        "    tensor = tensor * ((tensor_max - tensor_min) / max_val) + tensor_min\n",
        "\n",
        "    return tensor\n",
        "\n",
        "def calculate_error(original_tensor, quantized_tensor, tensor_min, tensor_max, bit_depth=8):\n",
        "    # dequantizeした値を得る\n",
        "    dequantized_tensor = dequantize(quantized_tensor, tensor_min, tensor_max, bit_depth)\n",
        "\n",
        "    # 誤差の計算 (MAE)\n",
        "    error = (original_tensor - dequantized_tensor).abs().mean()  # 平均絶対誤差 (MAE)\n",
        "\n",
        "    return error\n",
        "\n",
        "# テスト\n",
        "mean = 0.0\n",
        "std_dev = 1.0\n",
        "tensor_size = (3, 3)  # Size of the tensor\n",
        "tensor = torch.normal(mean, std_dev, size=tensor_size)\n",
        "\n",
        "quantized_tensor, tensor_min, tensor_max = quantize(tensor, bit_depth=8)\n",
        "dequantized_tensor = dequantize(quantized_tensor, tensor_min, tensor_max, bit_depth=8)\n",
        "\n",
        "# 誤差の計算\n",
        "error = calculate_error(tensor, quantized_tensor, tensor_min, tensor_max, bit_depth=8)\n",
        "\n",
        "print(\"Original Tensor:\")\n",
        "print(tensor)\n",
        "print(\"Quantized Tensor:\")\n",
        "print(quantized_tensor)\n",
        "print(\"Dequantized Tensor:\")\n",
        "print(dequantized_tensor)\n",
        "print(f\"Error (MAE): {error}\")\n"
      ],
      "metadata": {
        "colab": {
          "base_uri": "https://localhost:8080/"
        },
        "id": "_sSiCHMgLB4v",
        "outputId": "b26ae951-ceb9-4157-d2f1-b3855d767bf7"
      },
      "execution_count": 1,
      "outputs": [
        {
          "output_type": "stream",
          "name": "stdout",
          "text": [
            "Original Tensor:\n",
            "tensor([[ 1.9991, -2.0932,  1.0059],\n",
            "        [ 0.4970,  0.9956,  0.0238],\n",
            "        [-0.0924, -0.0666,  0.1046]])\n",
            "Quantized Tensor:\n",
            "tensor([[255,   0, 193],\n",
            "        [161, 192, 132],\n",
            "        [125, 126, 137]], dtype=torch.int32)\n",
            "Dequantized Tensor:\n",
            "tensor([[ 1.9991, -2.0932,  1.0041],\n",
            "        [ 0.4906,  0.9881,  0.0252],\n",
            "        [-0.0872, -0.0711,  0.1054]])\n",
            "Error (MAE): 0.00306390761397779\n"
          ]
        }
      ]
    },
    {
      "cell_type": "code",
      "source": [
        "import torch\n",
        "import torch.nn as nn\n",
        "import torch.optim as optim\n",
        "import torch.utils.data as data\n",
        "import torchvision\n",
        "import torchvision.transforms as transforms\n",
        "from copy import deepcopy\n",
        "from torch.utils.data import DataLoader\n",
        "\n",
        "# MNISTデータセットの前処理\n",
        "transform = transforms.Compose([transforms.ToTensor(), transforms.Normalize((0.5,), (0.5,))])\n",
        "\n",
        "trainset = torchvision.datasets.MNIST(root='./data', train=True, download=True, transform=transform)\n",
        "testset = torchvision.datasets.MNIST(root='./data', train=False, download=True, transform=transform)\n",
        "\n",
        "trainloader = DataLoader(trainset, batch_size=64, shuffle=True)\n",
        "testloader = DataLoader(testset, batch_size=64, shuffle=False)\n",
        "\n",
        "# 簡単なニューラルネットワーク（MNIST用）\n",
        "class SimpleNN(nn.Module):\n",
        "    def __init__(self):\n",
        "        super(SimpleNN, self).__init__()\n",
        "        self.fc1 = nn.Linear(28*28, 128)\n",
        "        self.fc2 = nn.Linear(128, 64)\n",
        "        self.fc3 = nn.Linear(64, 10)\n",
        "\n",
        "    def forward(self, x):\n",
        "        x = x.view(-1, 28*28)  # 入力を1次元にフラット化\n",
        "        x = torch.relu(self.fc1(x))\n",
        "        x = torch.relu(self.fc2(x))\n",
        "        x = self.fc3(x)\n",
        "        return x\n",
        "\n",
        "# モデルの定義と学習\n",
        "model = SimpleNN()\n",
        "criterion = nn.CrossEntropyLoss()\n",
        "optimizer = optim.SGD(model.parameters(), lr=0.1, momentum=0.1)\n",
        "\n",
        "# 学習\n",
        "def train_model(model, trainloader, criterion, optimizer, epochs=2):\n",
        "    model.train()\n",
        "    for epoch in range(epochs):\n",
        "        running_loss = 0.0\n",
        "        for inputs, labels in trainloader:\n",
        "            optimizer.zero_grad()\n",
        "            outputs = model(inputs)\n",
        "            loss = criterion(outputs, labels)\n",
        "            loss.backward()\n",
        "            optimizer.step()\n",
        "            running_loss += loss.item()\n",
        "        print(f\"Epoch {epoch+1}, Loss: {running_loss/len(trainloader)}\")\n",
        "\n",
        "train_model(model, trainloader, criterion, optimizer, epochs=5)\n",
        "\n",
        "# 推論関数\n",
        "def evaluate_model(model, testloader):\n",
        "    model.eval()\n",
        "    correct = 0\n",
        "    total = 0\n",
        "    with torch.no_grad():\n",
        "        for inputs, labels in testloader:\n",
        "            outputs = model(inputs)\n",
        "            _, predicted = torch.max(outputs, 1)\n",
        "            total += labels.size(0)\n",
        "            correct += (predicted == labels).sum().item()\n",
        "    accuracy = 100 * correct / total\n",
        "    return accuracy\n",
        "\n",
        "# モデルの量子化関数\n",
        "def quantize_model(model, n_bits):\n",
        "    quantized_model = deepcopy(model)\n",
        "    for param in quantized_model.parameters():\n",
        "        quantized_tensor, min_value, max_value = quantize(param, n_bits)\n",
        "        param.data = dequantize(quantized_tensor, min_value, max_value, n_bits)\n",
        "    return quantized_model\n",
        "\n",
        "# 1ビットから8ビットまでの精度変化を計算\n",
        "def evaluate_quantization_impact(model, testloader, bit_range=range(1, 9)):\n",
        "    results = {}\n",
        "    for n_bits in bit_range:\n",
        "        quantized_model = quantize_model(model, n_bits)\n",
        "        accuracy = evaluate_model(quantized_model, testloader)\n",
        "        results[n_bits] = accuracy\n",
        "        print(f\"Accuracy with {n_bits}-bit quantization: {accuracy:.2f}%\")\n",
        "    return results\n",
        "\n",
        "# 量子化の影響を評価\n",
        "results = evaluate_quantization_impact(model, testloader)\n",
        "\n",
        "# 結果のプロット（オプション）\n",
        "import matplotlib.pyplot as plt\n",
        "\n",
        "bit_values = list(results.keys())\n",
        "accuracies = list(results.values())\n",
        "\n",
        "plt.plot(bit_values, accuracies, marker='o')\n",
        "plt.xlabel('Number of Bits')\n",
        "plt.ylabel('Accuracy (%)')\n",
        "plt.title('Impact of Quantization on Model Accuracy')\n",
        "plt.grid(True)\n",
        "plt.show()\n"
      ],
      "metadata": {
        "colab": {
          "base_uri": "https://localhost:8080/",
          "height": 698
        },
        "id": "vVGMg-CuPIbR",
        "outputId": "e3c8157f-3478-4a6f-d562-214bbdb10c82"
      },
      "execution_count": 2,
      "outputs": [
        {
          "output_type": "stream",
          "name": "stdout",
          "text": [
            "Epoch 1, Loss: 0.4406274417077682\n",
            "Epoch 2, Loss: 0.17519650031834333\n",
            "Epoch 3, Loss: 0.1278203807787092\n",
            "Epoch 4, Loss: 0.10200545905348557\n",
            "Epoch 5, Loss: 0.0853450886189326\n",
            "Accuracy with 1-bit quantization: 9.76%\n",
            "Accuracy with 2-bit quantization: 9.97%\n",
            "Accuracy with 3-bit quantization: 56.40%\n",
            "Accuracy with 4-bit quantization: 95.22%\n",
            "Accuracy with 5-bit quantization: 96.80%\n",
            "Accuracy with 6-bit quantization: 96.54%\n",
            "Accuracy with 7-bit quantization: 96.66%\n",
            "Accuracy with 8-bit quantization: 96.69%\n"
          ]
        },
        {
          "output_type": "display_data",
          "data": {
            "text/plain": [
              "<Figure size 640x480 with 1 Axes>"
            ],
            "image/png": "[encoded data removed]"
          },
          "metadata": {}
        }
      ]
    },
    {
      "cell_type": "markdown",
      "source": [
        "## 標準偏差に基づく量子化"
      ],
      "metadata": {
        "id": "evmeqLM5arAw"
      }
    },
    {
      "cell_type": "markdown",
      "source": [
        "tensor_minとtensor_maxの取り方によって量子化のモデルへの影響が変化します。"
      ],
      "metadata": {
        "id": "4HI9QoAla0I7"
      }
    },
    {
      "cell_type": "code",
      "source": [
        "def quantize(tensor, bit_depth=8):\n",
        "    # ガウス分布に基づいて範囲を決定する\n",
        "    tensor_mean = tensor.mean()\n",
        "    tensor_std = tensor.std()\n",
        "\n",
        "    # より実用的な範囲: 平均 ± 3 * 標準偏差\n",
        "    tensor_min = tensor_mean - 3 * tensor_std\n",
        "    tensor_max = tensor_mean + 3 * tensor_std\n",
        "\n",
        "    # 0~(2^bit_depth - 1)の範囲にスケールする\n",
        "    max_val = (2 ** bit_depth) - 1\n",
        "    tensor = tensor - tensor_min  # 最小値を0に\n",
        "\n",
        "    # スケーリング\n",
        "    tensor = tensor * (max_val / (tensor_max - tensor_min))\n",
        "\n",
        "    # clampで範囲外の値を制限\n",
        "    tensor = torch.clamp(tensor, 0, max_val)\n",
        "\n",
        "    # 整数化\n",
        "    tensor = tensor.round().to(torch.int)\n",
        "\n",
        "    return tensor, tensor_min, tensor_max\n"
      ],
      "metadata": {
        "id": "cv2PBEIdQCAY"
      },
      "execution_count": 3,
      "outputs": []
    },
    {
      "cell_type": "code",
      "source": [
        "# モデルの量子化関数\n",
        "def quantize_model(model, n_bits):\n",
        "    quantized_model = deepcopy(model)\n",
        "    for param in quantized_model.parameters():\n",
        "        quantized_tensor, min_value, max_value = quantize(param, n_bits)\n",
        "        param.data = dequantize(quantized_tensor, min_value, max_value, n_bits)\n",
        "    return quantized_model\n",
        "\n",
        "# 1ビットから8ビットまでの精度変化を計算\n",
        "def evaluate_quantization_impact(model, testloader, bit_range=range(1, 9)):\n",
        "    results = {}\n",
        "    for n_bits in bit_range:\n",
        "        quantized_model = quantize_model(model, n_bits)\n",
        "        accuracy = evaluate_model(quantized_model, testloader)\n",
        "        results[n_bits] = accuracy\n",
        "        print(f\"Accuracy with {n_bits}-bit quantization: {accuracy:.2f}%\")\n",
        "    return results\n",
        "\n",
        "# 量子化の影響を評価\n",
        "results = evaluate_quantization_impact(model, testloader)\n",
        "\n",
        "# 結果のプロット（オプション）\n",
        "import matplotlib.pyplot as plt\n",
        "\n",
        "bit_values = list(results.keys())\n",
        "accuracies = list(results.values())\n",
        "\n",
        "plt.plot(bit_values, accuracies, marker='o')\n",
        "plt.xlabel('Number of Bits')\n",
        "plt.ylabel('Accuracy (%)')\n",
        "plt.title('Impact of Quantization on Model Accuracy')\n",
        "plt.grid(True)\n",
        "plt.show()\n"
      ],
      "metadata": {
        "colab": {
          "base_uri": "https://localhost:8080/",
          "height": 611
        },
        "id": "jHL7gPUGZYdw",
        "outputId": "651a16d4-a3c5-4fdc-a27b-c3483630109c"
      },
      "execution_count": 4,
      "outputs": [
        {
          "output_type": "stream",
          "name": "stdout",
          "text": [
            "Accuracy with 1-bit quantization: 24.85%\n",
            "Accuracy with 2-bit quantization: 84.16%\n",
            "Accuracy with 3-bit quantization: 95.05%\n",
            "Accuracy with 4-bit quantization: 95.30%\n",
            "Accuracy with 5-bit quantization: 95.56%\n",
            "Accuracy with 6-bit quantization: 95.62%\n",
            "Accuracy with 7-bit quantization: 95.51%\n",
            "Accuracy with 8-bit quantization: 95.52%\n"
          ]
        },
        {
          "output_type": "display_data",
          "data": {
            "text/plain": [
              "<Figure size 640x480 with 1 Axes>"
            ],
            "image/png": "[encoded data removed]"
          },
          "metadata": {}
        }
      ]
    }
  ],
  "metadata": {
    "kernelspec": {
      "display_name": "linearresnet",
      "language": "python",
      "name": "python3"
    },
    "language_info": {
      "codemirror_mode": {
        "name": "ipython",
        "version": 3
      },
      "file_extension": ".py",
      "mimetype": "text/x-python",
      "name": "python",
      "nbconvert_exporter": "python",
      "pygments_lexer": "ipython3",
      "version": "3.10.0"
    },
    "colab": {
      "provenance": []
    }
  },
  "nbformat": 4,
  "nbformat_minor": 0
}